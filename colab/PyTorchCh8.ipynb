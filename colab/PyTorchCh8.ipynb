{
  "nbformat": 4,
  "nbformat_minor": 0,
  "metadata": {
    "colab": {
      "name": "PyTorchCh8.ipynb",
      "provenance": [],
      "collapsed_sections": [],
      "authorship_tag": "ABX9TyPk0uwJByUuihDQW91OzVwK",
      "include_colab_link": true
    },
    "kernelspec": {
      "name": "python3",
      "display_name": "Python 3"
    },
    "language_info": {
      "name": "python"
    },
    "accelerator": "GPU",
    "widgets": {
      "application/vnd.jupyter.widget-state+json": {
        "0e3adf7084264e8b946aa420cbf8c4c8": {
          "model_module": "@jupyter-widgets/controls",
          "model_name": "HBoxModel",
          "model_module_version": "1.5.0",
          "state": {
            "_view_name": "HBoxView",
            "_dom_classes": [],
            "_model_name": "HBoxModel",
            "_view_module": "@jupyter-widgets/controls",
            "_model_module_version": "1.5.0",
            "_view_count": null,
            "_view_module_version": "1.5.0",
            "box_style": "",
            "layout": "IPY_MODEL_233c3783f06341da977f25a35398eeee",
            "_model_module": "@jupyter-widgets/controls",
            "children": [
              "IPY_MODEL_403b015704354007b97b54ae3cb7adae",
              "IPY_MODEL_37b39e8103c94a84aa1366471783db20",
              "IPY_MODEL_b44e3bcb20da4775a45024a06eacb5c1"
            ]
          }
        },
        "233c3783f06341da977f25a35398eeee": {
          "model_module": "@jupyter-widgets/base",
          "model_name": "LayoutModel",
          "model_module_version": "1.2.0",
          "state": {
            "_view_name": "LayoutView",
            "grid_template_rows": null,
            "right": null,
            "justify_content": null,
            "_view_module": "@jupyter-widgets/base",
            "overflow": null,
            "_model_module_version": "1.2.0",
            "_view_count": null,
            "flex_flow": null,
            "width": null,
            "min_width": null,
            "border": null,
            "align_items": null,
            "bottom": null,
            "_model_module": "@jupyter-widgets/base",
            "top": null,
            "grid_column": null,
            "overflow_y": null,
            "overflow_x": null,
            "grid_auto_flow": null,
            "grid_area": null,
            "grid_template_columns": null,
            "flex": null,
            "_model_name": "LayoutModel",
            "justify_items": null,
            "grid_row": null,
            "max_height": null,
            "align_content": null,
            "visibility": null,
            "align_self": null,
            "height": null,
            "min_height": null,
            "padding": null,
            "grid_auto_rows": null,
            "grid_gap": null,
            "max_width": null,
            "order": null,
            "_view_module_version": "1.2.0",
            "grid_template_areas": null,
            "object_position": null,
            "object_fit": null,
            "grid_auto_columns": null,
            "margin": null,
            "display": null,
            "left": null
          }
        },
        "403b015704354007b97b54ae3cb7adae": {
          "model_module": "@jupyter-widgets/controls",
          "model_name": "HTMLModel",
          "model_module_version": "1.5.0",
          "state": {
            "_view_name": "HTMLView",
            "style": "IPY_MODEL_e10e3e0994f54a94bf8e953d2639dfd1",
            "_dom_classes": [],
            "description": "",
            "_model_name": "HTMLModel",
            "placeholder": "​",
            "_view_module": "@jupyter-widgets/controls",
            "_model_module_version": "1.5.0",
            "value": "",
            "_view_count": null,
            "_view_module_version": "1.5.0",
            "description_tooltip": null,
            "_model_module": "@jupyter-widgets/controls",
            "layout": "IPY_MODEL_f9dc6c22bc474d86b878a1ae638b7ea5"
          }
        },
        "37b39e8103c94a84aa1366471783db20": {
          "model_module": "@jupyter-widgets/controls",
          "model_name": "FloatProgressModel",
          "model_module_version": "1.5.0",
          "state": {
            "_view_name": "ProgressView",
            "style": "IPY_MODEL_8dd976be4cbb48a7ae9ea7724a85438f",
            "_dom_classes": [],
            "description": "",
            "_model_name": "FloatProgressModel",
            "bar_style": "success",
            "max": 170498071,
            "_view_module": "@jupyter-widgets/controls",
            "_model_module_version": "1.5.0",
            "value": 170498071,
            "_view_count": null,
            "_view_module_version": "1.5.0",
            "orientation": "horizontal",
            "min": 0,
            "description_tooltip": null,
            "_model_module": "@jupyter-widgets/controls",
            "layout": "IPY_MODEL_527c28f68ea043a292dc54626459fd43"
          }
        },
        "b44e3bcb20da4775a45024a06eacb5c1": {
          "model_module": "@jupyter-widgets/controls",
          "model_name": "HTMLModel",
          "model_module_version": "1.5.0",
          "state": {
            "_view_name": "HTMLView",
            "style": "IPY_MODEL_d67f1177ec7143c0a5de0aa0c94aac7b",
            "_dom_classes": [],
            "description": "",
            "_model_name": "HTMLModel",
            "placeholder": "​",
            "_view_module": "@jupyter-widgets/controls",
            "_model_module_version": "1.5.0",
            "value": " 170499072/? [00:06&lt;00:00, 32771186.97it/s]",
            "_view_count": null,
            "_view_module_version": "1.5.0",
            "description_tooltip": null,
            "_model_module": "@jupyter-widgets/controls",
            "layout": "IPY_MODEL_96870e2eb6b043fe96c3a688b96620ea"
          }
        },
        "e10e3e0994f54a94bf8e953d2639dfd1": {
          "model_module": "@jupyter-widgets/controls",
          "model_name": "DescriptionStyleModel",
          "model_module_version": "1.5.0",
          "state": {
            "_view_name": "StyleView",
            "_model_name": "DescriptionStyleModel",
            "description_width": "",
            "_view_module": "@jupyter-widgets/base",
            "_model_module_version": "1.5.0",
            "_view_count": null,
            "_view_module_version": "1.2.0",
            "_model_module": "@jupyter-widgets/controls"
          }
        },
        "f9dc6c22bc474d86b878a1ae638b7ea5": {
          "model_module": "@jupyter-widgets/base",
          "model_name": "LayoutModel",
          "model_module_version": "1.2.0",
          "state": {
            "_view_name": "LayoutView",
            "grid_template_rows": null,
            "right": null,
            "justify_content": null,
            "_view_module": "@jupyter-widgets/base",
            "overflow": null,
            "_model_module_version": "1.2.0",
            "_view_count": null,
            "flex_flow": null,
            "width": null,
            "min_width": null,
            "border": null,
            "align_items": null,
            "bottom": null,
            "_model_module": "@jupyter-widgets/base",
            "top": null,
            "grid_column": null,
            "overflow_y": null,
            "overflow_x": null,
            "grid_auto_flow": null,
            "grid_area": null,
            "grid_template_columns": null,
            "flex": null,
            "_model_name": "LayoutModel",
            "justify_items": null,
            "grid_row": null,
            "max_height": null,
            "align_content": null,
            "visibility": null,
            "align_self": null,
            "height": null,
            "min_height": null,
            "padding": null,
            "grid_auto_rows": null,
            "grid_gap": null,
            "max_width": null,
            "order": null,
            "_view_module_version": "1.2.0",
            "grid_template_areas": null,
            "object_position": null,
            "object_fit": null,
            "grid_auto_columns": null,
            "margin": null,
            "display": null,
            "left": null
          }
        },
        "8dd976be4cbb48a7ae9ea7724a85438f": {
          "model_module": "@jupyter-widgets/controls",
          "model_name": "ProgressStyleModel",
          "model_module_version": "1.5.0",
          "state": {
            "_view_name": "StyleView",
            "_model_name": "ProgressStyleModel",
            "description_width": "",
            "_view_module": "@jupyter-widgets/base",
            "_model_module_version": "1.5.0",
            "_view_count": null,
            "_view_module_version": "1.2.0",
            "bar_color": null,
            "_model_module": "@jupyter-widgets/controls"
          }
        },
        "527c28f68ea043a292dc54626459fd43": {
          "model_module": "@jupyter-widgets/base",
          "model_name": "LayoutModel",
          "model_module_version": "1.2.0",
          "state": {
            "_view_name": "LayoutView",
            "grid_template_rows": null,
            "right": null,
            "justify_content": null,
            "_view_module": "@jupyter-widgets/base",
            "overflow": null,
            "_model_module_version": "1.2.0",
            "_view_count": null,
            "flex_flow": null,
            "width": null,
            "min_width": null,
            "border": null,
            "align_items": null,
            "bottom": null,
            "_model_module": "@jupyter-widgets/base",
            "top": null,
            "grid_column": null,
            "overflow_y": null,
            "overflow_x": null,
            "grid_auto_flow": null,
            "grid_area": null,
            "grid_template_columns": null,
            "flex": null,
            "_model_name": "LayoutModel",
            "justify_items": null,
            "grid_row": null,
            "max_height": null,
            "align_content": null,
            "visibility": null,
            "align_self": null,
            "height": null,
            "min_height": null,
            "padding": null,
            "grid_auto_rows": null,
            "grid_gap": null,
            "max_width": null,
            "order": null,
            "_view_module_version": "1.2.0",
            "grid_template_areas": null,
            "object_position": null,
            "object_fit": null,
            "grid_auto_columns": null,
            "margin": null,
            "display": null,
            "left": null
          }
        },
        "d67f1177ec7143c0a5de0aa0c94aac7b": {
          "model_module": "@jupyter-widgets/controls",
          "model_name": "DescriptionStyleModel",
          "model_module_version": "1.5.0",
          "state": {
            "_view_name": "StyleView",
            "_model_name": "DescriptionStyleModel",
            "description_width": "",
            "_view_module": "@jupyter-widgets/base",
            "_model_module_version": "1.5.0",
            "_view_count": null,
            "_view_module_version": "1.2.0",
            "_model_module": "@jupyter-widgets/controls"
          }
        },
        "96870e2eb6b043fe96c3a688b96620ea": {
          "model_module": "@jupyter-widgets/base",
          "model_name": "LayoutModel",
          "model_module_version": "1.2.0",
          "state": {
            "_view_name": "LayoutView",
            "grid_template_rows": null,
            "right": null,
            "justify_content": null,
            "_view_module": "@jupyter-widgets/base",
            "overflow": null,
            "_model_module_version": "1.2.0",
            "_view_count": null,
            "flex_flow": null,
            "width": null,
            "min_width": null,
            "border": null,
            "align_items": null,
            "bottom": null,
            "_model_module": "@jupyter-widgets/base",
            "top": null,
            "grid_column": null,
            "overflow_y": null,
            "overflow_x": null,
            "grid_auto_flow": null,
            "grid_area": null,
            "grid_template_columns": null,
            "flex": null,
            "_model_name": "LayoutModel",
            "justify_items": null,
            "grid_row": null,
            "max_height": null,
            "align_content": null,
            "visibility": null,
            "align_self": null,
            "height": null,
            "min_height": null,
            "padding": null,
            "grid_auto_rows": null,
            "grid_gap": null,
            "max_width": null,
            "order": null,
            "_view_module_version": "1.2.0",
            "grid_template_areas": null,
            "object_position": null,
            "object_fit": null,
            "grid_auto_columns": null,
            "margin": null,
            "display": null,
            "left": null
          }
        }
      }
    }
  },
  "cells": [
    {
      "cell_type": "markdown",
      "metadata": {
        "id": "view-in-github",
        "colab_type": "text"
      },
      "source": [
        "<a href=\"https://colab.research.google.com/github/Bitdribble/dlwpt-code/blob/master/colab/PyTorchCh8.ipynb\" target=\"_parent\"><img src=\"https://colab.research.google.com/assets/colab-badge.svg\" alt=\"Open In Colab\"/></a>"
      ]
    },
    {
      "cell_type": "markdown",
      "source": [
        "Telling birds from airplanes: Learning from images using convolutions ([Deep Learning with PyTorch](https://pytorch.org/assets/deep-learning/Deep-Learning-with-PyTorch.pdf), Chap. 8)"
      ],
      "metadata": {
        "id": "0SFyRjT09E_w"
      }
    },
    {
      "cell_type": "code",
      "execution_count": null,
      "metadata": {
        "colab": {
          "base_uri": "https://localhost:8080/"
        },
        "id": "5HQOa_p_9Dre",
        "outputId": "b8de50aa-ebcf-437a-f158-a452e6f0b757"
      },
      "outputs": [
        {
          "output_type": "execute_result",
          "data": {
            "text/plain": [
              "<torch._C.Generator at 0x7f23a3c2da90>"
            ]
          },
          "metadata": {},
          "execution_count": 2
        }
      ],
      "source": [
        "import datetime\n",
        "from matplotlib import pyplot as plt\n",
        "import numpy as np\n",
        "import torch\n",
        "import torch.nn as nn\n",
        "import torch.optim as optim\n",
        "from torchvision import datasets, transforms\n",
        "\n",
        "torch.set_printoptions(edgeitems=2, linewidth=75) # Simplifies print output of tensors\n",
        "torch.manual_seed(123) # Fixed seed for reproducibility"
      ]
    },
    {
      "cell_type": "code",
      "source": [
        "# Data preparation\n",
        "data_path = '.'\n",
        "cifar10 = datasets.CIFAR10(data_path, train=True, download=True)\n",
        "cifar10_val = datasets.CIFAR10(data_path, train=False, download=True)"
      ],
      "metadata": {
        "colab": {
          "base_uri": "https://localhost:8080/",
          "height": 104,
          "referenced_widgets": [
            "0e3adf7084264e8b946aa420cbf8c4c8",
            "233c3783f06341da977f25a35398eeee",
            "403b015704354007b97b54ae3cb7adae",
            "37b39e8103c94a84aa1366471783db20",
            "b44e3bcb20da4775a45024a06eacb5c1",
            "e10e3e0994f54a94bf8e953d2639dfd1",
            "f9dc6c22bc474d86b878a1ae638b7ea5",
            "8dd976be4cbb48a7ae9ea7724a85438f",
            "527c28f68ea043a292dc54626459fd43",
            "d67f1177ec7143c0a5de0aa0c94aac7b",
            "96870e2eb6b043fe96c3a688b96620ea"
          ]
        },
        "id": "4zTgNKoQZYU6",
        "outputId": "4484cce9-c6bc-47ab-9bd7-d7f9ddd1ccf6"
      },
      "execution_count": null,
      "outputs": [
        {
          "output_type": "stream",
          "name": "stdout",
          "text": [
            "Downloading https://www.cs.toronto.edu/~kriz/cifar-10-python.tar.gz to ./cifar-10-python.tar.gz\n"
          ]
        },
        {
          "output_type": "display_data",
          "data": {
            "application/vnd.jupyter.widget-view+json": {
              "model_id": "0e3adf7084264e8b946aa420cbf8c4c8",
              "version_minor": 0,
              "version_major": 2
            },
            "text/plain": [
              "  0%|          | 0/170498071 [00:00<?, ?it/s]"
            ]
          },
          "metadata": {}
        },
        {
          "output_type": "stream",
          "name": "stdout",
          "text": [
            "Extracting ./cifar-10-python.tar.gz to .\n",
            "Files already downloaded and verified\n"
          ]
        }
      ]
    },
    {
      "cell_type": "code",
      "source": [
        "# Normalize data\n",
        "transformed_cifar10 = datasets.CIFAR10(\n",
        "    data_path, train=True, download=False,\n",
        "    transform=transforms.Compose([\n",
        "        transforms.ToTensor(),\n",
        "        transforms.Normalize((0.4915, 0.4823, 0.4468), # Mean per channel, precomputed in Chap 7\n",
        "                             (0.2470, 0.2435, 0.2616)) # Stddev per channel\n",
        "    ]))\n",
        "transformed_cifar10_val = datasets.CIFAR10(\n",
        "    data_path, train=False, download=False,\n",
        "    transform=transforms.Compose([\n",
        "        transforms.ToTensor(),\n",
        "        transforms.Normalize((0.4915, 0.4823, 0.4468),\n",
        "                             (0.2470, 0.2435, 0.2616))\n",
        "    ]))"
      ],
      "metadata": {
        "id": "570u2kiRZzcf"
      },
      "execution_count": null,
      "outputs": []
    },
    {
      "cell_type": "code",
      "source": [
        "# Restrict data from 10 categories to airplanes (category 0) and birds (category 2)\n",
        "label_map = {0: 0, 2: 1}\n",
        "class_names = ['airplane', 'bird']\n",
        "\n",
        "cifar2 = [(img, label_map[label]) for img, label in transformed_cifar10 if label in [0, 2]]\n",
        "cifar2_val = [(img, label_map[label]) for img, label in transformed_cifar10_val if label in [0, 2]]\n"
      ],
      "metadata": {
        "id": "Ui1ogiGNZqcM"
      },
      "execution_count": null,
      "outputs": []
    },
    {
      "cell_type": "code",
      "source": [
        "# Instead of linear layers, use 'convolution layers'. The convolution matrix\n",
        "# has weights as below (also has bias, but ignore that for now):\n",
        "#\n",
        "# weight = torch.tensor([[w00, w01, w02],\n",
        "#                        [w10, w11, w12],\n",
        "#                        [w20, w21, w22]])\n",
        "#\n",
        "# This is called the 'kernel'. \n",
        "# Assume a 1-channel, MxN image:\n",
        "#\n",
        "# image = torch.tensor([[i00, i01, i02, i03, ..., i0N],\n",
        "#                       [i10, i11, i12, i13, ..., i1N],\n",
        "#                       [i20, i21, i22, i23, ..., i2N],\n",
        "#                       [i30, i31, i32, i33, ..., i3N],\n",
        "#                       ...\n",
        "#                       [iM0, iM1m iM2, iM3, ..., iMN]])\n",
        "#\n",
        "# We can compute an element of the output image (without bias) as:\n",
        "#\n",
        "# [[o00, o01, ...],\n",
        "#  [o10, o11, ...],\n",
        "#   ...\n",
        "#\n",
        "# where\n",
        "#\n",
        "# o11 = i11 * w00 + i12 * w01 + i13 * w02 + \n",
        "#       i21 * w10 + i22 * w11 + i23 * w12 +\n",
        "#       i31 * w20 + i32 * w21 + i33 * w22\n",
        "#\n",
        "# In essence:\n",
        "# - We 'pad' kernel and image with 0-valued rows and columns\n",
        "# - Steps to obtain oij:\n",
        "#   - Translate the kernel by (i, j), and transpose it\n",
        "#   - Multiply image with translated, transposed kernel, and take sum of elements"
      ],
      "metadata": {
        "id": "L9ruhQkwfkNy"
      },
      "execution_count": null,
      "outputs": []
    },
    {
      "cell_type": "markdown",
      "source": [
        "![](https://drive.google.com/uc?export=view&id=1bSJk77_mcn_fytNb_HgYBapXrMyf5vg1)\n",
        "\n",
        "- Just like the elements in the weight matrix of nn.Linear, the weights in the kernel are not known in advance, but they are initialized randomly and updated\n",
        "through backpropagation. \n",
        "\n",
        "- The same kernel, and thus each weight in the kernel, is reused across the whole image. \n",
        "\n",
        "- With a convolution layer, the number of parameters depends not on the number of pixels in the image, as was the case in our fully connected model, but rather on the size of the convolution kernel.\n",
        "\n",
        "Summarizing, by switching to convolutions, we get:\n",
        "- Local operations on a neighborhood\n",
        "- Translation invariance\n",
        "- Models with a lot fewer parameters"
      ],
      "metadata": {
        "id": "-0sZC5b1iHgX"
      }
    },
    {
      "cell_type": "code",
      "source": [
        "# - Image is RGB, with 3 input channels\n",
        "# - Pick arbitrary number of output channels (16). This is needed b/c\n",
        "# of 'lottery ticket hypothesis' (saying that some channels will end up being useless!)\n",
        "# - Kernel size is 3 (shorthand for 3x3). It is square size, but could be rectangular.\n",
        "conv = nn.Conv2d(3, 16, kernel_size=3)\n",
        "conv"
      ],
      "metadata": {
        "colab": {
          "base_uri": "https://localhost:8080/"
        },
        "id": "2VUKBYjFi4uC",
        "outputId": "d93211ea-dedd-4b1d-e28a-27c7ad8154b0"
      },
      "execution_count": null,
      "outputs": [
        {
          "output_type": "execute_result",
          "data": {
            "text/plain": [
              "Conv2d(3, 16, kernel_size=(3, 3), stride=(1, 1))"
            ]
          },
          "metadata": {},
          "execution_count": 7
        }
      ]
    },
    {
      "cell_type": "code",
      "source": [
        "conv.weight.shape, conv.bias.shape"
      ],
      "metadata": {
        "colab": {
          "base_uri": "https://localhost:8080/"
        },
        "id": "catFO78pi4bB",
        "outputId": "e4445d20-ede0-4a61-b6fb-b2a7bec25bd1"
      },
      "execution_count": null,
      "outputs": [
        {
          "output_type": "execute_result",
          "data": {
            "text/plain": [
              "(torch.Size([16, 3, 3, 3]), torch.Size([16]))"
            ]
          },
          "metadata": {},
          "execution_count": 8
        }
      ]
    },
    {
      "cell_type": "code",
      "source": [
        "# We need to add the zeroth batch dimension with\n",
        "# unsqueeze if we want to call the conv module with one input image, since nn.Conv2d\n",
        "# expects a B × C × H × W shaped tensor as input\n",
        "img, _ = cifar2[0] # First image in cifar2 dataset\n",
        "output = conv(img.unsqueeze(0)) # Apply convolution\n",
        "img.unsqueeze(0).shape, output.shape"
      ],
      "metadata": {
        "colab": {
          "base_uri": "https://localhost:8080/"
        },
        "id": "RXH3g8m8pTl8",
        "outputId": "80aa95b0-cf2e-4c2b-dfe8-d70eb1648005"
      },
      "execution_count": null,
      "outputs": [
        {
          "output_type": "execute_result",
          "data": {
            "text/plain": [
              "(torch.Size([1, 3, 32, 32]), torch.Size([1, 16, 30, 30]))"
            ]
          },
          "metadata": {},
          "execution_count": 12
        }
      ]
    },
    {
      "cell_type": "code",
      "source": [
        "# Image before and after conv\n",
        "subplot = plt.subplot(1, 2, 1)\n",
        "subplot.set_title(\"input\")\n",
        "plt.imshow(img.permute(1, 2, 0), cmap='gray') # Convert image from C x H x W to H x W x C\n",
        "subplot = plt.subplot(1, 2, 2)\n",
        "subplot.set_title(\"output\")\n",
        "plt.imshow(output[0, 0].detach(), cmap='gray') # Use detach() to remove computation graph\n",
        "plt.show()"
      ],
      "metadata": {
        "colab": {
          "base_uri": "https://localhost:8080/",
          "height": 234
        },
        "id": "Nss7ENLbpq27",
        "outputId": "c3f649e1-9fb0-492b-b7ef-3b5d7161df58"
      },
      "execution_count": null,
      "outputs": [
        {
          "output_type": "stream",
          "name": "stderr",
          "text": [
            "Clipping input data to the valid range for imshow with RGB data ([0..1] for floats or [0..255] for integers).\n"
          ]
        },
        {
          "output_type": "display_data",
          "data": {
            "image/png": "[encoded data removed]",
            "text/plain": [
              "<Figure size 432x288 with 2 Axes>"
            ]
          },
          "metadata": {
            "needs_background": "light"
          }
        }
      ]
    },
    {
      "cell_type": "code",
      "source": [
        "# output size is 30x30 instead of 32x32 b/c \n",
        "# by default pytorch will slide the convolution kernel\n",
        "# only within the image (and the center of the conv kernel\n",
        "# will not reach the end rows/colums)\n",
        "img.size(),output.size()"
      ],
      "metadata": {
        "colab": {
          "base_uri": "https://localhost:8080/"
        },
        "id": "TKeEwcnJrxyC",
        "outputId": "8acbe905-4e84-4428-e848-2547782e55ef"
      },
      "execution_count": null,
      "outputs": [
        {
          "output_type": "execute_result",
          "data": {
            "text/plain": [
              "(torch.Size([3, 32, 32]), torch.Size([1, 16, 30, 30]))"
            ]
          },
          "metadata": {},
          "execution_count": 11
        }
      ]
    },
    {
      "cell_type": "code",
      "source": [
        "# However, PyTorch gives us the possibility of padding the image\n",
        "conv = nn.Conv2d(3, 1, kernel_size=3, padding=1) # Now with padding and 1 output channel instead of 16\n",
        "\n",
        "output = conv(img.unsqueeze(0))\n",
        "img.unsqueeze(0).shape, output.shape"
      ],
      "metadata": {
        "colab": {
          "base_uri": "https://localhost:8080/"
        },
        "id": "RtfNXwVMxkyF",
        "outputId": "5cfa8c80-9c38-4139-b685-5885578bed2f"
      },
      "execution_count": null,
      "outputs": [
        {
          "output_type": "execute_result",
          "data": {
            "text/plain": [
              "(torch.Size([1, 3, 32, 32]), torch.Size([1, 1, 32, 32]))"
            ]
          },
          "metadata": {},
          "execution_count": 14
        }
      ]
    },
    {
      "cell_type": "markdown",
      "source": [
        "![](https://drive.google.com/uc?export=view&id=1PGZnYrlzMHbcEVmXYhyY6knvlebUv6q1)"
      ],
      "metadata": {
        "id": "qk15R49Li6nE"
      }
    },
    {
      "cell_type": "code",
      "source": [
        "# Detecting features with convolutions\n",
        "#\n",
        "# Zero out the bias, and set the kernel to equal weights\n",
        "with torch.no_grad():\n",
        "  conv.bias.zero_()\n",
        "with torch.no_grad():\n",
        "  conv.weight.fill_(1.0 / 9.0)\n",
        "\n",
        "output = conv(img.unsqueeze(0))\n",
        "\n",
        "# The filter produces a blurred version of the image. With equal weights, every pixel of \n",
        "# the output is the average of a neighborhood\n",
        "subplot = plt.subplot(1, 2, 1)\n",
        "subplot.set_title(\"input\")\n",
        "plt.imshow(img.permute(1, 2, 0), cmap='gray')\n",
        "subplot = plt.subplot(1, 2, 2)\n",
        "subplot.set_title(\"output\")\n",
        "plt.imshow(output[0, 0].detach(), cmap='gray')\n",
        "plt.show()"
      ],
      "metadata": {
        "colab": {
          "base_uri": "https://localhost:8080/",
          "height": 234
        },
        "id": "wompIus2yOxB",
        "outputId": "b39cef43-d708-44d8-9859-9c7d202062fe"
      },
      "execution_count": null,
      "outputs": [
        {
          "output_type": "stream",
          "name": "stderr",
          "text": [
            "Clipping input data to the valid range for imshow with RGB data ([0..1] for floats or [0..255] for integers).\n"
          ]
        },
        {
          "output_type": "display_data",
          "data": {
            "image/png": "[encoded data removed]",
            "text/plain": [
              "<Figure size 432x288 with 2 Axes>"
            ]
          },
          "metadata": {
            "needs_background": "light"
          }
        }
      ]
    },
    {
      "cell_type": "code",
      "source": [
        "# Try new kernel that gives difference between next column and prev column\n",
        "conv = nn.Conv2d(3, 1, kernel_size=3, padding=1)\n",
        "with torch.no_grad():\n",
        "  conv.weight[:] = torch.tensor([[-1.0, 0.0, 1.0],\n",
        "                                 [-1.0, 0.0, 1.0],\n",
        "                                 [-1.0, 0.0, 1.0]])\n",
        "  conv.bias.zero_()\n",
        "\n",
        "output = conv(img.unsqueeze(0))\n",
        "\n",
        "# This kernel detects vertical edges\n",
        "subplot = plt.subplot(1, 2, 1)\n",
        "subplot.set_title(\"input\")\n",
        "plt.imshow(img.permute(1, 2, 0), cmap='gray')\n",
        "subplot = plt.subplot(1, 2, 2)\n",
        "subplot.set_title(\"output\")\n",
        "plt.imshow(output[0, 0].detach(), cmap='gray')\n",
        "plt.show()"
      ],
      "metadata": {
        "colab": {
          "base_uri": "https://localhost:8080/",
          "height": 234
        },
        "id": "WoXICAzo0Dyc",
        "outputId": "2e5145f8-d222-4087-9a16-17260ab65069"
      },
      "execution_count": null,
      "outputs": [
        {
          "output_type": "stream",
          "name": "stderr",
          "text": [
            "Clipping input data to the valid range for imshow with RGB data ([0..1] for floats or [0..255] for integers).\n"
          ]
        },
        {
          "output_type": "display_data",
          "data": {
            "image/png": "[encoded data removed]",
            "text/plain": [
              "<Figure size 432x288 with 2 Axes>"
            ]
          },
          "metadata": {
            "needs_background": "light"
          }
        }
      ]
    },
    {
      "cell_type": "code",
      "source": [
        "# We could build lots more elaborate filters, such as for detecting horizontal or diagonal edges, or cross-\n",
        "# like or checkerboard patterns, where “detecting” means the output has a high magni-\n",
        "# tude. In fact, the job of a computer vision expert has historically been to come up with\n",
        "# the  most  effective  combination  of  filters  so  that  certain  features  are  highlighted  in\n",
        "# images and objects can be recognized.\n",
        "#\n",
        "# With deep learning, we let kernels be estimated from data in whatever way the dis-\n",
        "# crimination is most effective: for instance, in terms of minimizing the negative cross-\n",
        "# entropy loss between the output and the ground truth. From this angle, \n",
        "# the job of a convolutional neural network is to estimate the ker-\n",
        "# nel of a set of filter banks in successive layers that will transform a multichannel image\n",
        "# into  another  multichannel  image,  where  different  channels  correspond  to  different\n",
        "# features (such as one channel for the average, another channel for vertical edges, and\n",
        "# so on). Figure below shows how the training automatically learns the kernels. "
      ],
      "metadata": {
        "id": "nser1bol1J_3"
      },
      "execution_count": null,
      "outputs": []
    },
    {
      "cell_type": "markdown",
      "source": [
        "![](https://drive.google.com/uc?export=view&id=17iDBagvo6-6pt1aMy81Gj7Z4BcduG7I8)"
      ],
      "metadata": {
        "id": "M83E67eb33ha"
      }
    },
    {
      "cell_type": "code",
      "source": [
        "# Convolutions achieve locality and translation invariance. Small convolution \n",
        "# kernels are recommended, 3x3 or 5x5. But what about detecting 'global' features?\n",
        "#\n",
        "# Don't want to use large conv kernels, say 32x32, b/c it's inefficient.\n",
        "# \n",
        "# Idea: use downsampling layer. We stack one convolution after the other and \n",
        "# at the same time downsampling the image between successive convolutions.\n",
        "#\n",
        "# Downsampling could be done in different ways. Scaling an image by half is\n",
        "# the equivalent of taking four neighboring pixels as input and producing \n",
        "# one pixel as output. We could:\n",
        "# - Average the four pixels. This average pooling was a common approach early on but\n",
        "#   has fallen out of favor somewhat.\n",
        "# - Take the maximum of the four pixels. This approach, called max pooling, is currently\n",
        "#   the  most  commonly  used  approach,  but  it  has  a  downside  of  discarding  the\n",
        "#   other three-quarters of the data.\n",
        "# - Perform a strided convolution, where only every Nth pixel is calculated. A 3 × 4 convolu-\n",
        "#   tion with stride 2 still incorporates input from all pixels from the previous layer.\n",
        "#   The  literature  shows  promise  for  this  approach,  but  it  has  not  yet  supplanted\n",
        "#   max pooling.\n",
        "#\n",
        "# We use max pooling."
      ],
      "metadata": {
        "id": "jk1PgrVJ4rVd"
      },
      "execution_count": null,
      "outputs": []
    },
    {
      "cell_type": "markdown",
      "source": [
        "![](https://drive.google.com/uc?export=view&id=1scpsEZYYIotuu8bFDTsXGTbaaiHmLmw4)"
      ],
      "metadata": {
        "id": "LJo3LyoX6yzw"
      }
    },
    {
      "cell_type": "code",
      "source": [
        "pool = nn.MaxPool2d(2)\n",
        "output = pool(img.unsqueeze(0))\n",
        "\n",
        "img.unsqueeze(0).shape, output.shape"
      ],
      "metadata": {
        "colab": {
          "base_uri": "https://localhost:8080/"
        },
        "id": "10o6Q2VD7Fib",
        "outputId": "414e982f-59f6-441b-e2bb-f70ddfdfb821"
      },
      "execution_count": null,
      "outputs": [
        {
          "output_type": "execute_result",
          "data": {
            "text/plain": [
              "(torch.Size([1, 3, 32, 32]), torch.Size([1, 3, 16, 16]))"
            ]
          },
          "metadata": {},
          "execution_count": 18
        }
      ]
    },
    {
      "cell_type": "markdown",
      "source": [
        "![](https://drive.google.com/uc?export=view&id=1Ya2EIe8uvy4n8B-T__-oQCZ-OuUJgZnG)"
      ],
      "metadata": {
        "id": "k3sN26ul75bO"
      }
    },
    {
      "cell_type": "code",
      "source": [
        "model = nn.Sequential(\n",
        "    nn.Conv2d(3, 16, kernel_size=3, padding=1),\n",
        "    nn.Tanh(),\n",
        "\n",
        "    nn.MaxPool2d(2),\n",
        "    nn.Conv2d(16, 8, kernel_size=3, padding=1),\n",
        "    nn.Tanh(),\n",
        "\n",
        "    nn.MaxPool2d(2),\n",
        "    # ... More layers will be added here later\n",
        ")\n",
        "\n",
        "# 3x32x32 -> 16x32x32 # giving the network a  chance  to  generate  16  independent  \n",
        "#                     # features  that  operate  to  (hopefully)  discrimi-\n",
        "#                     # nate low-level features of birds and airplanes.\n",
        "#         -> 16x16x16 # maxpool downsampling from 32x32 to 16x16 images\n",
        "#         ->  8x16x16 # down to 8 channels for 16x16 images\n",
        "#         ->    8x8x8 # downsampling to 8x8 images\n",
        "\n",
        "# Complete the network with fully connected layers\n",
        "model = nn.Sequential(                          # Layer output:\n",
        "    nn.Conv2d(3, 16, kernel_size=3, padding=1), # 16x32x32\n",
        "    nn.Tanh(),\n",
        "    nn.MaxPool2d(2),                            # 16x16x16\n",
        "\n",
        "    nn.Conv2d(16, 8, kernel_size=3, padding=1), # 8x16x16\n",
        "    nn.Tanh(),\n",
        "    nn.MaxPool2d(2),                            # 8x8x8\n",
        "\n",
        "    nn.Flatten(), # Needed to convert 8x8x8 to 8*8*8\n",
        "\n",
        "    nn.Linear(8*8*8, 32), # 32\n",
        "    nn.Tanh(),\n",
        "\n",
        "    nn.Linear(32, 2) # 2 (planes, birds)\n",
        "    )\n",
        "\n",
        "# The size of the linear layer is dependent on the expected size of the output \n",
        "# of MaxPool2d: 8×8×8 = 512. Let’s count the number of parameters for this small model:\n",
        "\n",
        "numel_list = [p.numel() for p in model.parameters() if p.requires_grad == True]\n",
        "sum(numel_list), numel_list"
      ],
      "metadata": {
        "colab": {
          "base_uri": "https://localhost:8080/"
        },
        "id": "b0LykoIh8BcQ",
        "outputId": "8d248ecf-0239-4a6a-a313-2352afe9c096"
      },
      "execution_count": null,
      "outputs": [
        {
          "output_type": "execute_result",
          "data": {
            "text/plain": [
              "(18090, [432, 16, 1152, 8, 16384, 32, 64, 2])"
            ]
          },
          "metadata": {},
          "execution_count": 19
        }
      ]
    },
    {
      "cell_type": "code",
      "source": [
        "# That’s very reasonable for a limited dataset of such small images. In order to increase\n",
        "# the capacity of the model, we could increase the number of output channels for the\n",
        "# convolution layers (that is, the number of features each convolution layer generates),\n",
        "# which would lead the linear layer to increase its size as well."
      ],
      "metadata": {
        "id": "tbHOEnOJ-LMa"
      },
      "execution_count": null,
      "outputs": []
    },
    {
      "cell_type": "markdown",
      "source": [
        "![](https://drive.google.com/uc?export=view&id=114aiMy8s6OC4BVNkP6hWEkW8szfRFMOX)"
      ],
      "metadata": {
        "id": "n8RQLIyG-vxT"
      }
    },
    {
      "cell_type": "code",
      "source": [
        "# model forward pass\n",
        "model(img.unsqueeze(0))"
      ],
      "metadata": {
        "colab": {
          "base_uri": "https://localhost:8080/"
        },
        "id": "esDOzj4x_N0M",
        "outputId": "a6c66e68-d920-4dfe-81a3-08458e008cdc"
      },
      "execution_count": null,
      "outputs": [
        {
          "output_type": "execute_result",
          "data": {
            "text/plain": [
              "tensor([[0.0975, 0.1355]], grad_fn=<AddmmBackward0>)"
            ]
          },
          "metadata": {},
          "execution_count": 20
        }
      ]
    },
    {
      "cell_type": "code",
      "source": [
        "# Writing the network as submodule\n",
        "#\n",
        "# When  we  want  to  build  models  that  do  more  complex  things  than  just  applying \n",
        "# one layer after another, we need to leave nn.Sequential for something that gives us\n",
        "# added flexibility. PyTorch allows us to use any computation in our model by subclass-\n",
        "# ing nn.Module.\n",
        "#\n",
        "# In order to subclass nn.Module, at a minimum we need to define a forward function\n",
        "# that takes the inputs to the module and returns the output. This is where we define our\n",
        "# module’s computation. The name forward here is reminiscent of a distant past, when\n",
        "# modules  needed  to  define  both  the  forward  and  backward  passes. \n",
        "#\n",
        "# With nn.Module, if we use standard torch operations, autograd will take care of the\n",
        "# backward pass automatically; and indeed, an nn.Module never comes with a backward API.\n",
        "#\n",
        "# Typically, our computation will use other modules — which could be premade, like convolutions, or\n",
        "# custom. To include these submodules, we typically define them in the constructor\n",
        "# __init__ and assign them to self for use in the forward function. They will, at the\n",
        "# same time, hold their parameters throughout the lifetime of our module. Note that you\n",
        "# need to call super().__init__() before you can do that (or PyTorch will remind you).\n",
        "#\n",
        "# In the constructor, we  instantiate  all  the  nn.Conv2d, nn.Linear, and so on \n",
        "# that we previously passed to nn.Sequential,\n",
        "# and then use their instances one after another in forward().\n",
        "\n",
        "class Net(nn.Module):\n",
        "  def __init__(self):\n",
        "    super().__init__()\n",
        "    self.conv1 = nn.Conv2d(3, 16, kernel_size=3, padding=1)\n",
        "    self.act1 = nn.Tanh()\n",
        "\n",
        "    self.pool1 = nn.MaxPool2d(2)\n",
        "    self.conv2 = nn.Conv2d(16, 8, kernel_size=3, padding=1)\n",
        "    self.act2 = nn.Tanh()\n",
        "\n",
        "    self.pool2 = nn.MaxPool2d(2)\n",
        "    self.fc1 = nn.Linear(8*8*8, 32)\n",
        "    self.act3 = nn.Tanh()\n",
        "\n",
        "    self.fc2 = nn.Linear(32, 2)\n",
        "\n",
        "  def forward(self, x):\n",
        "    out = self.pool1(self.act1(self.conv1(x)))\n",
        "    out = self.pool2(self.act2(self.conv2(out)))\n",
        "    out = out.view(-1, 8*8*8) # In place of nn.Flatten()\n",
        "    out = self.act3(self.fc1(out))\n",
        "    out = self.fc2(out)\n",
        "    return out\n",
        "\n",
        "# We leave the batch dimension as –1 in the call to view, since we\n",
        "# don’t know how many samples will be in the batch\n",
        "\n",
        "# Architecture comments:\n",
        "#\n",
        "# 1. The size of our intermediate values is generally shrinking. This is done \n",
        "# by reducing the number of channels in the convolutions, by\n",
        "# reducing the number of pixels through pooling, and by having an output dimension\n",
        "# lower than the input dimension in the linear layers. This is a common trait of\n",
        "# classification networks. However, in many popular architectures like the ResNets, \n",
        "# the reduction is achieved by pooling in the spatial resolution, but the number of  \n",
        "# channels increases (still resulting in a reduction in size). It seems that \n",
        "# our pattern of fast information reduction works well with networks of limited depth and \n",
        "# small images; but for deeper networks, the decrease is typically slower.\n",
        "#\n",
        "# 2. The initial layer is special in that it is the only one drastically increasing the output size. \n",
        "# This can be thought as an embedding in a higher dimensional space followed by doing simpler\n",
        "# layer. This is called the 'kernel trick'."
      ],
      "metadata": {
        "id": "vsejWEnIn9Gf"
      },
      "execution_count": null,
      "outputs": []
    },
    {
      "cell_type": "code",
      "source": [
        "# Assigning an instance of nn.Module to an attribute in an nn.Module, as\n",
        "# we did in the earlier constructor, automatically registers the module as a submodule.\n",
        "# \n",
        "# The submodules must be top-level attributes, not buried inside list or\n",
        "# dict instances! Otherwise the optimizer will not be able to locate the sub-\n",
        "# modules (and, hence, their parameters). For situations where your model\n",
        "# requires a list or dict of submodules, PyTorch provides nn.ModuleList and nn.ModuleDict.\n",
        "#\n",
        "# This allows Net to have access to the parameters of its submodules without further\n",
        "# action by the user, as model.parameters()\n",
        "#\n",
        "# Whether using Sequential() or Module() type modules, \n",
        "# parameters are accessed as model.parameters()\n",
        "model = Net()\n",
        "numel_list = [p.numel() for p in model.parameters() if p.requires_grad == True]\n",
        "sum(numel_list), numel_list"
      ],
      "metadata": {
        "colab": {
          "base_uri": "https://localhost:8080/"
        },
        "id": "8LFH_d6vDwkN",
        "outputId": "1ee96b62-2a49-4375-f2e5-9c5a33860064"
      },
      "execution_count": null,
      "outputs": [
        {
          "output_type": "execute_result",
          "data": {
            "text/plain": [
              "(18090, [432, 16, 1152, 8, 16384, 32, 64, 2])"
            ]
          },
          "metadata": {},
          "execution_count": 25
        }
      ]
    },
    {
      "cell_type": "code",
      "source": [
        "# Here, 432 = 3 input channels x 9 conv kernel size x 16 out channels for weights,\n",
        "# 16 = number of biases\n",
        "# 1152 = 16 in channels x 9 conv kernel size x 8 out channels,\n",
        "# 8 = number of biases,\n",
        "# 16,384 = 8x8x8 inputs x32 outputs for weights,\n",
        "# 32 = number of biases,\n",
        "# 64 = 32 inputs x2 outputs,\n",
        "# 2 = number of biases"
      ],
      "metadata": {
        "id": "1ieRcd4BGQ6M"
      },
      "execution_count": null,
      "outputs": []
    },
    {
      "cell_type": "code",
      "source": [
        "import datetime\n",
        "import torch.nn.functional as F\n"
      ],
      "metadata": {
        "id": "52X0y89-nKgg"
      },
      "execution_count": null,
      "outputs": []
    },
    {
      "cell_type": "code",
      "source": [
        "# - Feed the inputs through the model (the forward pass).\n",
        "# - Compute the loss (also part of the forward pass).\n",
        "# - Zero any old gradients.\n",
        "# - Call  loss.backward()  to  compute  the  gradients  of  the  loss  with  respect  to  all\n",
        "#   parameters (the backward pass).\n",
        "# - Have the optimizer take a step in toward lower loss.\n",
        "def training_loop(n_epochs, optimizer, model, loss_fn, train_loader, log_epochs=0):\n",
        "  for epoch in range(n_epochs):\n",
        "    loss_train = 0.0\n",
        "    for imgs, labels in train_loader: # Loops over our dataset in the batches the data loader creates for us\n",
        "      outputs = model(imgs) # Feed a batch through the model\n",
        "      loss = loss_fn(outputs, labels) # ...compute the loss we wish to minimize\n",
        "\n",
        "      optimizer.zero_grad() # After getting rid of the gradients from the last round ...\n",
        "      loss.backward() # ... performs the backward step. That is, we compute the gradients of all parameters we \n",
        "                      # want the network to learn.\n",
        "      optimizer.step() # Update the model\n",
        "\n",
        "      loss_train += loss.item() # Sums the losses we saw over all batches in the epoch.\n",
        "                                # We transform the loss to a Python number with .item(), \n",
        "                                # to escape the gradients.\n",
        "\n",
        "    if log_epochs is not 0 and ((epoch+1) % log_epochs == 0 or (epoch+1) == n_epochs):\n",
        "      print(f\"{datetime.datetime.now()} Epoch {epoch+1}, \"\n",
        "            f\"Training loss {loss_train / len(train_loader):.3f}\")\n",
        "      # Training loss divides by the length of the training data loader to get \n",
        "      # the average loss per batch. This is a more intuitive measure to display than the sum.\n",
        "\n",
        "# The DataLoader batches up the examples of our cifar2 dataset. \n",
        "# Shuffling randomizes the order of the examples from the dataset.\n",
        "train_loader = torch.utils.data.DataLoader(cifar2, batch_size=64,\n",
        "                                           shuffle=True)\n",
        "\n",
        "model = Net() # Instantiates our network ...\n",
        "optimizer = optim.SGD(model.parameters(), lr=1e-2) # ... the stochastic gradient \n",
        "                                                   # descent optimizer we have \n",
        "                                                   # been working with ..\n",
        "\n",
        "loss_fn = nn.CrossEntropyLoss() # ... and the cross entropy loss\n",
        "\n",
        "training_loop(\n",
        "    n_epochs = 100,\n",
        "    optimizer = optimizer,\n",
        "    model = model,\n",
        "\n",
        "    loss_fn = loss_fn,\n",
        "    train_loader = train_loader,\n",
        "    log_epochs=10\n",
        ")"
      ],
      "metadata": {
        "colab": {
          "base_uri": "https://localhost:8080/"
        },
        "id": "zMu8wRg6kPP3",
        "outputId": "c6a90fc9-e787-42ee-b8bf-c55c2d915179"
      },
      "execution_count": null,
      "outputs": [
        {
          "output_type": "stream",
          "name": "stdout",
          "text": [
            "2022-01-09 14:45:53.417711 Epoch 10, Training loss 0.328\n",
            "2022-01-09 14:46:32.224949 Epoch 20, Training loss 0.289\n",
            "2022-01-09 14:47:11.222132 Epoch 30, Training loss 0.264\n",
            "2022-01-09 14:47:50.444621 Epoch 40, Training loss 0.241\n",
            "2022-01-09 14:48:29.368129 Epoch 50, Training loss 0.226\n",
            "2022-01-09 14:49:08.427316 Epoch 60, Training loss 0.207\n",
            "2022-01-09 14:49:47.412806 Epoch 70, Training loss 0.193\n",
            "2022-01-09 14:50:26.439146 Epoch 80, Training loss 0.182\n",
            "2022-01-09 14:51:05.365394 Epoch 90, Training loss 0.166\n",
            "2022-01-09 14:51:44.446271 Epoch 100, Training loss 0.153\n"
          ]
        }
      ]
    },
    {
      "cell_type": "code",
      "source": [
        "# Measuring accuracy\n",
        "train_loader = torch.utils.data.DataLoader(cifar2, batch_size=64, shuffle=False)\n",
        "val_loader = torch.utils.data.DataLoader(cifar2_val, batch_size=64, shuffle=False)\n",
        "\n",
        "def validate(model, train_loader, val_loader):\n",
        "  for name, loader in [(\"train\", train_loader), (\"val\", val_loader)]:\n",
        "    correct = 0\n",
        "    total = 0\n",
        "    with torch.no_grad(): # We do not want gradients here, as we will not want to update the parameters.\n",
        "      for imgs, labels in loader:\n",
        "        outputs = model(imgs)\n",
        "        _, predicted = torch.max(outputs, dim=1) # Gives us the index of the highest value as output\n",
        "\n",
        "        total += labels.shape[0] # Counts the number of examples, so total is increased by the batch size\n",
        "\n",
        "        # Comparing the predicted class that had the maximum probability and the ground-truth\n",
        "        # labels, we first get a Boolean array. Taking the sum gives the number of items in the batch\n",
        "        # where the prediction and ground truth agree.\n",
        "        correct += int((predicted == labels).sum())\n",
        "\n",
        "    print(f\"Accuracy {name}: {correct / total:.2f}\")\n",
        "\n",
        "validate(model, train_loader, val_loader)"
      ],
      "metadata": {
        "colab": {
          "base_uri": "https://localhost:8080/"
        },
        "id": "176A2mSXR0we",
        "outputId": "dd11d224-8880-42e9-9721-a22a45ed7c2b"
      },
      "execution_count": null,
      "outputs": [
        {
          "output_type": "stream",
          "name": "stdout",
          "text": [
            "Accuracy train: 0.94\n",
            "Accuracy val: 0.90\n"
          ]
        }
      ]
    },
    {
      "cell_type": "code",
      "source": [
        "# Saving and loading the model\n",
        "torch.save(model.state_dict(), \"birds_vs_airplanes.pt\")\n",
        "\n",
        "# We will have to make sure we don’t change the definition of Net between saving and \n",
        "# later loading the model state.\n",
        "loaded_model = Net()\n",
        "\n",
        "loaded_model.load_state_dict(torch.load(\"birds_vs_airplanes.pt\"))"
      ],
      "metadata": {
        "colab": {
          "base_uri": "https://localhost:8080/"
        },
        "id": "snsmXf9QTRKc",
        "outputId": "133905be-06c8-46d8-9146-085879a7201d"
      },
      "execution_count": null,
      "outputs": [
        {
          "output_type": "execute_result",
          "data": {
            "text/plain": [
              "<All keys matched successfully>"
            ]
          },
          "metadata": {},
          "execution_count": 28
        }
      ]
    },
    {
      "cell_type": "code",
      "source": [
        "# Training on the GPU\n",
        "device = (torch.device('cuda') if torch.cuda.is_available() else torch.device('cpu'))\n",
        "print(f\"Training on device {device}.\")"
      ],
      "metadata": {
        "colab": {
          "base_uri": "https://localhost:8080/"
        },
        "id": "VA_TWuMJTnR8",
        "outputId": "0b584e08-6289-4d1c-c504-ceeb536d5832"
      },
      "execution_count": null,
      "outputs": [
        {
          "output_type": "stream",
          "name": "stdout",
          "text": [
            "Training on device cuda.\n"
          ]
        }
      ]
    },
    {
      "cell_type": "code",
      "source": [
        "# Amend the training loop by moving tensors to gpu\n",
        "def training_loop_gpu(n_epochs, optimizer, model, loss_fn, train_loader, log_epochs=0):\n",
        "  for epoch in range(1, n_epochs + 1):\n",
        "    loss_train = 0.0\n",
        "\n",
        "    for imgs, labels in train_loader:\n",
        "      imgs = imgs.to(device=device) # Move to gpu\n",
        "      labels = labels.to(device=device) # Move to gpu\n",
        "\n",
        "      outputs = model(imgs)\n",
        "      loss = loss_fn(outputs, labels)\n",
        "      optimizer.zero_grad()\n",
        "      loss.backward()\n",
        "      optimizer.step()\n",
        "      loss_train += loss.item()\n",
        "\n",
        "    if log_epochs is not 0 and ((epoch+1) % log_epochs == 0 or (epoch+1) == n_epochs):\n",
        "      print(f\"{datetime.datetime.now()} Epoch {epoch+1}, \"\n",
        "            f\"Training loss {loss_train / len(train_loader):.3f}\")\n",
        "\n",
        "def validate_gpu(model, train_loader, val_loader):\n",
        "  for name, loader in [(\"train\", train_loader), (\"val\", val_loader)]:\n",
        "    correct = 0\n",
        "    total = 0\n",
        "    with torch.no_grad(): \n",
        "      for imgs, labels in loader:\n",
        "        imgs = imgs.to(device=device) # Move to gpu\n",
        "        labels = labels.to(device=device) # Move to gpu\n",
        "\n",
        "        outputs = model(imgs)\n",
        "        _, predicted = torch.max(outputs, dim=1) \n",
        "\n",
        "        total += labels.shape[0]\n",
        "        correct += int((predicted == labels).sum())\n",
        "\n",
        "\n",
        "    print(f\"Accuracy {name}: {correct / total:.2f}\")"
      ],
      "metadata": {
        "id": "FQaQBPU_T5H6"
      },
      "execution_count": null,
      "outputs": []
    },
    {
      "cell_type": "code",
      "source": [
        "model_gpu = Net().to(device=device)\n",
        "optimizer = optim.SGD(model_gpu.parameters(), lr=1e-2)\n",
        "train_loader = torch.utils.data.DataLoader(cifar2, batch_size=64,\n",
        "                                           shuffle=True)\n",
        "\n",
        "loss_fn = nn.CrossEntropyLoss()\n",
        "training_loop_gpu(\n",
        "    n_epochs = 100,\n",
        "    optimizer = optimizer,\n",
        "    model = model_gpu,\n",
        "\n",
        "    loss_fn = loss_fn,\n",
        "    train_loader = train_loader,\n",
        "    log_epochs = 10\n",
        ")"
      ],
      "metadata": {
        "colab": {
          "base_uri": "https://localhost:8080/"
        },
        "id": "u_WlaZRrVL2w",
        "outputId": "de59f1fd-b84f-4625-e95f-7104e2632201"
      },
      "execution_count": null,
      "outputs": [
        {
          "output_type": "stream",
          "name": "stdout",
          "text": [
            "2022-01-09 14:53:13.936882 Epoch 10, Training loss 0.341\n",
            "2022-01-09 14:53:19.766887 Epoch 20, Training loss 0.301\n",
            "2022-01-09 14:53:25.612316 Epoch 30, Training loss 0.277\n",
            "2022-01-09 14:53:31.415174 Epoch 40, Training loss 0.257\n",
            "2022-01-09 14:53:37.264388 Epoch 50, Training loss 0.235\n",
            "2022-01-09 14:53:43.087479 Epoch 60, Training loss 0.222\n",
            "2022-01-09 14:53:48.907270 Epoch 70, Training loss 0.206\n",
            "2022-01-09 14:53:54.754319 Epoch 80, Training loss 0.193\n",
            "2022-01-09 14:54:00.578399 Epoch 90, Training loss 0.181\n",
            "2022-01-09 14:54:06.423398 Epoch 100, Training loss 0.168\n"
          ]
        }
      ]
    },
    {
      "cell_type": "code",
      "source": [
        "train_loader = torch.utils.data.DataLoader(cifar2, batch_size=64, shuffle=False)\n",
        "val_loader = torch.utils.data.DataLoader(cifar2_val, batch_size=64, shuffle=False)\n",
        "\n",
        "validate_gpu(model_gpu, train_loader, val_loader)"
      ],
      "metadata": {
        "colab": {
          "base_uri": "https://localhost:8080/"
        },
        "id": "he11z2mcWp7O",
        "outputId": "655587b9-78ce-4040-bd1f-920d7e3ae093"
      },
      "execution_count": null,
      "outputs": [
        {
          "output_type": "stream",
          "name": "stdout",
          "text": [
            "Accuracy train: 0.93\n",
            "Accuracy val: 0.89\n"
          ]
        }
      ]
    }
  ]
}