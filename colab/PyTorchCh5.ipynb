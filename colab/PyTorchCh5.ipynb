{
  "nbformat": 4,
  "nbformat_minor": 0,
  "metadata": {
    "colab": {
      "name": "PyTorchCh5.ipynb",
      "provenance": [],
      "collapsed_sections": [],
      "authorship_tag": "ABX9TyNYVrAthogd2k7Rj174a1Qi",
      "include_colab_link": true
    },
    "kernelspec": {
      "name": "python3",
      "display_name": "Python 3"
    },
    "language_info": {
      "name": "python"
    }
  },
  "cells": [
    {
      "cell_type": "markdown",
      "metadata": {
        "id": "view-in-github",
        "colab_type": "text"
      },
      "source": [
        "<a href=\"https://colab.research.google.com/github/Bitdribble/dlwpt-code/blob/master/colab/PyTorchCh5.ipynb\" target=\"_parent\"><img src=\"https://colab.research.google.com/assets/colab-badge.svg\" alt=\"Open In Colab\"/></a>"
      ]
    },
    {
      "cell_type": "markdown",
      "metadata": {
        "id": "MHh7aOauJvqd"
      },
      "source": [
        "Temperature model from [Deep Learning With PyTorch](https://pytorch.org/assets/deep-learning/Deep-Learning-with-PyTorch.pdf) Chap 5. A thermometer uses an unknown scale. We're trying to determine the units used by the termometer, comparing its readings with those of a 2nd thermometer that uses Celsius scale."
      ]
    },
    {
      "cell_type": "code",
      "metadata": {
        "id": "v1AeVVxVJ8lZ"
      },
      "source": [
        "import torch\n",
        "import matplotlib.pyplot as plt"
      ],
      "execution_count": null,
      "outputs": []
    },
    {
      "cell_type": "code",
      "metadata": {
        "colab": {
          "base_uri": "https://localhost:8080/"
        },
        "id": "mFvG03XeKDwm",
        "outputId": "c49bd357-9477-47f2-f484-8d6cdc56e2de"
      },
      "source": [
        " # Readings in Celsius\n",
        " t_c = [0.5, 14.0, 15.0, 28.0, 11.0, 8.0, 3.0, -4.0, 6.0, 13.0, 21.0]\n",
        " # Corresponding readings in the unknown scale\n",
        " t_u = [35.7, 55.9, 58.2, 81.9, 56.3, 48.9, 33.9, 21.8, 48.4, 60.4, 68.4]\n",
        " t_c = torch.tensor(t_c)\n",
        " t_u = torch.tensor(t_u)\n",
        " t_c, t_u"
      ],
      "execution_count": null,
      "outputs": [
        {
          "output_type": "execute_result",
          "data": {
            "text/plain": [
              "(tensor([ 0.5000, 14.0000, 15.0000, 28.0000, 11.0000,  8.0000,  3.0000, -4.0000,\n",
              "          6.0000, 13.0000, 21.0000]),\n",
              " tensor([35.7000, 55.9000, 58.2000, 81.9000, 56.3000, 48.9000, 33.9000, 21.8000,\n",
              "         48.4000, 60.4000, 68.4000]))"
            ]
          },
          "metadata": {},
          "execution_count": 3
        }
      ]
    },
    {
      "cell_type": "code",
      "metadata": {
        "colab": {
          "base_uri": "https://localhost:8080/",
          "height": 279
        },
        "id": "h6MYow7YK7ht",
        "outputId": "43067955-e8fb-4d84-bad8-1087e4af2e4b"
      },
      "source": [
        "# Plot the readings.\n",
        "fig = plt.figure()\n",
        "plt.xlabel(\"Temperature (°Unknown)\")\n",
        "plt.ylabel(\"Temperature (°Celsius)\")\n",
        "plt.plot(t_u, t_c, \"o\")\n",
        "plt.show()"
      ],
      "execution_count": null,
      "outputs": [
        {
          "output_type": "display_data",
          "data": {
            "image/png": "[encoded data removed]",
            "text/plain": [
              "<Figure size 432x288 with 1 Axes>"
            ]
          },
          "metadata": {
            "needs_background": "light"
          }
        }
      ]
    },
    {
      "cell_type": "markdown",
      "metadata": {
        "id": "YNoXhjcp-AXZ"
      },
      "source": [
        "We'll try to 'fit a line' though this plot. Other more precise methods are available. Here we're mimicking the DL gradient descent method as illustration for how DL neural nets work.\n",
        "\n",
        "The model and the loss function are listed below:"
      ]
    },
    {
      "cell_type": "code",
      "metadata": {
        "id": "kNP42IXsKQ9F"
      },
      "source": [
        "def model(t_u, w, b):\n",
        "  return w * t_u + b \n",
        "\n",
        "def loss_fn(t_p, t_c):\n",
        "    squared_diffs = (t_p - t_c)**2\n",
        "    return squared_diffs.mean()"
      ],
      "execution_count": null,
      "outputs": []
    },
    {
      "cell_type": "markdown",
      "metadata": {
        "id": "qSgYaENeCQpu"
      },
      "source": [
        "Initialize the weight and bias. Run the model once, and compute the loss. Compare with the actual measurement."
      ]
    },
    {
      "cell_type": "code",
      "metadata": {
        "colab": {
          "base_uri": "https://localhost:8080/"
        },
        "id": "d9jmMr9LLl_3",
        "outputId": "f02588af-9ace-4fd3-9c0d-746b1946297d"
      },
      "source": [
        "w = torch.ones(())\n",
        "b = torch.zeros(())\n",
        "t_p = model(t_u, w, b)\n",
        "t_p"
      ],
      "execution_count": null,
      "outputs": [
        {
          "output_type": "execute_result",
          "data": {
            "text/plain": [
              "tensor([35.7000, 55.9000, 58.2000, 81.9000, 56.3000, 48.9000, 33.9000, 21.8000,\n",
              "        48.4000, 60.4000, 68.4000])"
            ]
          },
          "metadata": {},
          "execution_count": 7
        }
      ]
    },
    {
      "cell_type": "code",
      "metadata": {
        "colab": {
          "base_uri": "https://localhost:8080/"
        },
        "id": "ttUUleguSD_g",
        "outputId": "3518d114-3562-4a5e-dee0-a64824955f99"
      },
      "source": [
        "loss = loss_fn(t_p, t_c)\n",
        "loss"
      ],
      "execution_count": null,
      "outputs": [
        {
          "output_type": "execute_result",
          "data": {
            "text/plain": [
              "tensor(1763.8848)"
            ]
          },
          "metadata": {},
          "execution_count": 8
        }
      ]
    },
    {
      "cell_type": "code",
      "metadata": {
        "colab": {
          "base_uri": "https://localhost:8080/",
          "height": 279
        },
        "id": "LDxEB3d_QpLC",
        "outputId": "4c8a00e2-bd04-4690-c179-69733c94a80e"
      },
      "source": [
        "fig = plt.figure()\n",
        "plt.xlabel(\"Temperature (°Unknown)\")\n",
        "plt.ylabel(\"Temperature (°Celsius)\")\n",
        "plt.plot(t_u, t_p)\n",
        "plt.plot(t_u, t_c, \"o\")\n",
        "plt.show()"
      ],
      "execution_count": null,
      "outputs": [
        {
          "output_type": "display_data",
          "data": {
            "image/png": "[encoded data removed]",
            "text/plain": [
              "<Figure size 432x288 with 1 Axes>"
            ]
          },
          "metadata": {
            "needs_background": "light"
          }
        }
      ]
    },
    {
      "cell_type": "markdown",
      "metadata": {
        "id": "dnzz46QyrZKB"
      },
      "source": [
        "**Training using estimate of gradient**"
      ]
    },
    {
      "cell_type": "code",
      "metadata": {
        "colab": {
          "base_uri": "https://localhost:8080/"
        },
        "id": "Tg4f9mJ5SX6X",
        "outputId": "235945bc-3596-4701-a69c-1cedacf97b5b"
      },
      "source": [
        "def train(w, b, n_epochs = 100, learning_rate_w = 1e-4, learning_rate_b = 1, log_epochs = 10):\n",
        "  delta = 1e-1\n",
        "\n",
        "  for epoch in range(n_epochs):\n",
        "    # Estimate d/dw (loss_fn \\comp model); update weight\n",
        "    loss_rate_w = (loss_fn(model(t_u, w + delta, b), t_c) - loss_fn(model(t_u, w - delta, b), t_c)) / (2.0 * delta)\n",
        "    w = w - learning_rate_w * loss_rate_w\n",
        "    # Estimate d/db (loss_fn \\comp model); update bias\n",
        "    loss_rate_b = (loss_fn(model(t_u, w, b + delta), t_c) - loss_fn(model(t_u, w, b - delta), t_c)) / (2.0 * delta)\n",
        "    b = b - learning_rate_b * loss_rate_b\n",
        "    t_p = model(t_u, w, b)\n",
        "    loss = loss_fn(t_p, t_c)\n",
        "\n",
        "    if log_epochs is not 0 and (epoch+1) % log_epochs == 0 or (epoch+1) == n_epochs:\n",
        "      print(f\"Epoch {epoch+1}, w {float(w):.3f}, b {float(b):.3f}, loss_rate_w {float(loss_rate_w):.3f}, loss_rate_b {float(loss_rate_b):.3f}, loss {float(loss):.3f}\")\n",
        " \n",
        "  return w, b\n",
        "\n",
        "#train(w, b, n_epochs=200000, learning_rate_w=1e-4, learning_rate_b=1e-4, log_epochs=10000) # Slow to converge b/c learning rates \n",
        "#train(w, b, n_epochs=10, learning_rate_w=1e-3, learning_rate_b=1, log_epochs=1) # w diverges\n",
        "train(w, b, n_epochs=100, learning_rate_w=1e-4, learning_rate_b=1, log_epochs=10) # Good"
      ],
      "execution_count": null,
      "outputs": [
        {
          "output_type": "stream",
          "name": "stdout",
          "text": [
            "Epoch 10, w 0.612, b -21.059, loss_rate_w 55.027, loss_rate_b -0.313, loss 4.420\n",
            "Epoch 20, w 0.573, b -19.098, loss_rate_w 27.635, loss_rate_b -0.138, loss 3.265\n",
            "Epoch 30, w 0.554, b -18.160, loss_rate_w 13.179, loss_rate_b -0.066, loss 3.004\n",
            "Epoch 40, w 0.545, b -17.713, loss_rate_w 6.285, loss_rate_b -0.031, loss 2.945\n",
            "Epoch 50, w 0.541, b -17.499, loss_rate_w 2.998, loss_rate_b -0.015, loss 2.932\n",
            "Epoch 60, w 0.539, b -17.398, loss_rate_w 1.429, loss_rate_b -0.007, loss 2.929\n",
            "Epoch 70, w 0.538, b -17.349, loss_rate_w 0.682, loss_rate_b -0.003, loss 2.928\n",
            "Epoch 80, w 0.537, b -17.326, loss_rate_w 0.325, loss_rate_b -0.002, loss 2.928\n",
            "Epoch 90, w 0.537, b -17.315, loss_rate_w 0.155, loss_rate_b -0.001, loss 2.928\n",
            "Epoch 100, w 0.537, b -17.310, loss_rate_w 0.074, loss_rate_b -0.000, loss 2.928\n"
          ]
        },
        {
          "output_type": "execute_result",
          "data": {
            "text/plain": [
              "(tensor(0.5369), tensor(-17.3096))"
            ]
          },
          "metadata": {},
          "execution_count": 10
        }
      ]
    },
    {
      "cell_type": "markdown",
      "metadata": {
        "id": "iEBUzBBtfABa"
      },
      "source": [
        "![](https://drive.google.com/uc?export=view&id=1lz1NknfgDa2vHEm5Z15HFpldtbw3m3GM)"
      ]
    },
    {
      "cell_type": "code",
      "metadata": {
        "colab": {
          "base_uri": "https://localhost:8080/",
          "height": 463
        },
        "id": "yw2Z-egjTkIP",
        "outputId": "0a40f8a6-6847-4a1a-c1aa-a1fed2a5bb7a"
      },
      "source": [
        "w1, b1 = train(w, b, n_epochs=100, learning_rate_w=1e-4, learning_rate_b=1, log_epochs=10)\n",
        "t_p = w1 * t_u + b1\n",
        "\n",
        "fig = plt.figure()\n",
        "plt.xlabel(\"Temperature (°Fahrenheit)\")\n",
        "plt.ylabel(\"Temperature (°Celsius)\")\n",
        "plt.plot(t_u, t_p)\n",
        "plt.plot(t_u, t_c, \"o\")\n",
        "plt.show()"
      ],
      "execution_count": null,
      "outputs": [
        {
          "output_type": "stream",
          "name": "stdout",
          "text": [
            "Epoch 10, w 0.612, b -21.059, loss_rate_w 55.027, loss_rate_b -0.313, loss 4.420\n",
            "Epoch 20, w 0.573, b -19.098, loss_rate_w 27.635, loss_rate_b -0.138, loss 3.265\n",
            "Epoch 30, w 0.554, b -18.160, loss_rate_w 13.179, loss_rate_b -0.066, loss 3.004\n",
            "Epoch 40, w 0.545, b -17.713, loss_rate_w 6.285, loss_rate_b -0.031, loss 2.945\n",
            "Epoch 50, w 0.541, b -17.499, loss_rate_w 2.998, loss_rate_b -0.015, loss 2.932\n",
            "Epoch 60, w 0.539, b -17.398, loss_rate_w 1.429, loss_rate_b -0.007, loss 2.929\n",
            "Epoch 70, w 0.538, b -17.349, loss_rate_w 0.682, loss_rate_b -0.003, loss 2.928\n",
            "Epoch 80, w 0.537, b -17.326, loss_rate_w 0.325, loss_rate_b -0.002, loss 2.928\n",
            "Epoch 90, w 0.537, b -17.315, loss_rate_w 0.155, loss_rate_b -0.001, loss 2.928\n",
            "Epoch 100, w 0.537, b -17.310, loss_rate_w 0.074, loss_rate_b -0.000, loss 2.928\n"
          ]
        },
        {
          "output_type": "display_data",
          "data": {
            "image/png": "[encoded data removed]",
            "text/plain": [
              "<Figure size 432x288 with 1 Axes>"
            ]
          },
          "metadata": {
            "needs_background": "light"
          }
        }
      ]
    },
    {
      "cell_type": "markdown",
      "metadata": {
        "id": "QSfwbKFsqmNG"
      },
      "source": [
        "**Training using analytic gradient computation**"
      ]
    },
    {
      "cell_type": "code",
      "metadata": {
        "colab": {
          "base_uri": "https://localhost:8080/"
        },
        "id": "hAzMsQutkj_q",
        "outputId": "02defc77-ab4f-4194-f13d-03a0a2b66906"
      },
      "source": [
        "def dloss_fn(t_p, t_c):\n",
        "  dsq_diffs = 2 * (t_p - t_c) / t_p.size(0)\n",
        "  return dsq_diffs\n",
        "\n",
        "def dmodel_dw(t_u, w, b):\n",
        "  return t_u\n",
        "\n",
        "def dmodel_db(t_u, w, b):\n",
        "  return 1.0\n",
        "\n",
        "# Recall that t_p = model(t_u), fn(t_u) = loss(model(t_u)) = loss(t_p)\n",
        "def grad_fn(t_u, t_c, t_p, w, b):\n",
        "  dloss_dtp = dloss_fn(t_p, t_c)\n",
        "  dloss_dw = dloss_dtp * dmodel_dw(t_u, w, b)\n",
        "  dloss_db = dloss_dtp * dmodel_db(t_u, w, b)\n",
        "  return torch.stack([dloss_dw.sum(), dloss_db.sum()])\n",
        "\n",
        "def train_grad(params=torch.tensor([1.0, 0.0]), n_epochs=100, \n",
        "               learning_rate=1e-4, log_epochs=0):\n",
        "  for epoch in range(n_epochs):\n",
        "    w, b = params\n",
        "    t_p = model(t_u, w, b)\n",
        "    loss = loss_fn(t_p, t_c)\n",
        "    grad = grad_fn(t_u, t_c, t_p, w, b)\n",
        "    params = params - learning_rate * grad\n",
        "\n",
        "    if not torch.isfinite(loss).all():\n",
        "      print(\"Infinite loss\")\n",
        "      break\n",
        "\n",
        "    if log_epochs is not 0 and (epoch+1) % log_epochs == 0 or (epoch+1) == n_epochs:\n",
        "      print(f\"Epoch {epoch+1}, w {w:.3f}, b {b:.3f}, grad ({grad[0]:.3f}, {grad[1]:.3f}), loss {float(loss):.3f}\")\n",
        "  return params\n",
        "\n",
        "# train_grad(n_epochs=10, learning_rate=1e-3, log_epochs=1) # Diverges\n",
        "# train_grad(n_epochs=200000, learning_rate=torch.tensor([1e-4, 1e-4]), log_epochs=20000) # Slow to converge\n",
        "train_grad(n_epochs=200, learning_rate=torch.tensor([1e-4, 1e-1]), log_epochs=20) # Good"
      ],
      "execution_count": null,
      "outputs": [
        {
          "output_type": "stream",
          "name": "stdout",
          "text": [
            "Epoch 20, w 0.442, b -12.062, grad (-12.562, 0.697), loss 5.348\n",
            "Epoch 40, w 0.464, b -13.293, grad (-9.612, 0.533), loss 4.345\n",
            "Epoch 60, w 0.481, b -14.236, grad (-7.354, 0.408), loss 3.757\n",
            "Epoch 80, w 0.494, b -14.956, grad (-5.627, 0.312), loss 3.413\n",
            "Epoch 100, w 0.504, b -15.508, grad (-4.305, 0.239), loss 3.212\n",
            "Epoch 120, w 0.512, b -15.930, grad (-3.294, 0.183), loss 3.094\n",
            "Epoch 140, w 0.518, b -16.253, grad (-2.521, 0.140), loss 3.025\n",
            "Epoch 160, w 0.522, b -16.500, grad (-1.929, 0.107), loss 2.985\n",
            "Epoch 180, w 0.526, b -16.689, grad (-1.476, 0.082), loss 2.961\n",
            "Epoch 200, w 0.528, b -16.834, grad (-1.129, 0.063), loss 2.947\n"
          ]
        },
        {
          "output_type": "execute_result",
          "data": {
            "text/plain": [
              "tensor([  0.5284, -16.8398])"
            ]
          },
          "metadata": {},
          "execution_count": 13
        }
      ]
    },
    {
      "cell_type": "code",
      "metadata": {
        "colab": {
          "base_uri": "https://localhost:8080/",
          "height": 297
        },
        "id": "xTHwDLc2lD_B",
        "outputId": "29940b89-dd33-4a0b-da91-df689e4831a0"
      },
      "source": [
        "params = train_grad(n_epochs=200, learning_rate=torch.tensor([1e-4, 1e-1]), log_epochs=0)\n",
        "t_p = model(t_u, *params)\n",
        "fig = plt.figure()\n",
        "plt.xlabel(\"Temperature (°Fahrenheit)\")\n",
        "plt.ylabel(\"Temperature (°Celsius)\")\n",
        "plt.plot(t_u, t_p)\n",
        "plt.plot(t_u, t_c, \"o\")\n",
        "plt.show()"
      ],
      "execution_count": null,
      "outputs": [
        {
          "output_type": "stream",
          "name": "stdout",
          "text": [
            "Epoch 200, w 0.528, b -16.834, grad (-1.129, 0.063), loss 2.947\n"
          ]
        },
        {
          "output_type": "display_data",
          "data": {
            "image/png": "[encoded data removed]",
            "text/plain": [
              "<Figure size 432x288 with 1 Axes>"
            ]
          },
          "metadata": {
            "needs_background": "light"
          }
        }
      ]
    },
    {
      "cell_type": "code",
      "metadata": {
        "colab": {
          "base_uri": "https://localhost:8080/"
        },
        "id": "PMm7CPlWnkDf",
        "outputId": "fd6de776-2efd-439b-80f3-ece3a22cf052"
      },
      "source": [
        "params = torch.tensor([1.0, 0.0], requires_grad=True)\n",
        "params.grad is None"
      ],
      "execution_count": null,
      "outputs": [
        {
          "output_type": "execute_result",
          "data": {
            "text/plain": [
              "True"
            ]
          },
          "metadata": {},
          "execution_count": 15
        }
      ]
    },
    {
      "cell_type": "code",
      "metadata": {
        "colab": {
          "base_uri": "https://localhost:8080/"
        },
        "id": "QJQrQo1EnzLb",
        "outputId": "68fabc0a-cc9e-4307-9567-6e6f36c0ab73"
      },
      "source": [
        "loss = loss_fn(model(t_u, *params), t_c)\n",
        "loss.backward()\n",
        "params.grad"
      ],
      "execution_count": null,
      "outputs": [
        {
          "output_type": "execute_result",
          "data": {
            "text/plain": [
              "tensor([4517.2969,   82.6000])"
            ]
          },
          "metadata": {},
          "execution_count": 16
        }
      ]
    },
    {
      "cell_type": "markdown",
      "metadata": {
        "id": "AUoARcgRqWs9"
      },
      "source": [
        "**Training using Torch backward pass to compute the gradient**"
      ]
    },
    {
      "cell_type": "code",
      "metadata": {
        "colab": {
          "base_uri": "https://localhost:8080/"
        },
        "id": "0XFoIYn6ogt-",
        "outputId": "55b62b16-e629-4e8a-c342-3beefe36e4d3"
      },
      "source": [
        "def train_backward(params=torch.tensor([1.0, 0.0], requires_grad=True), n_epochs=100, \n",
        "                   learning_rate=1e-4, log_epochs=0):\n",
        "  for epoch in range(n_epochs):\n",
        "    if params.grad is not None:\n",
        "      params.grad.zero_() # Reset the gradient\n",
        "    t_p = model(t_u, *params)\n",
        "    loss = loss_fn(t_p, t_c) # Compute function (Forward pass)\n",
        "    loss.backward() # Compute gradient (Backward pass)\n",
        "    with torch.no_grad():\n",
        "      params -= learning_rate * params.grad # Update in place\n",
        "\n",
        "    w, b = params\n",
        "    grad = params.grad\n",
        "    if log_epochs is not 0 and ((epoch+1) % log_epochs == 0 or (epoch+1) == n_epochs):\n",
        "      print(f\"Epoch {epoch+1}, w {w:.3f}, b {b:.3f}, grad ({grad[0]:.3f}, {grad[1]:.3f}), loss {float(loss):.3f}\")\n",
        "\n",
        "  return params\n",
        "\n",
        "#train_backward(n_epochs=10, learning_rate=1e-3, log_epochs=1) # Diverges\n",
        "#train_backward(n_epochs=200000, learning_rate=torch.tensor([1e-4, 1e-4]), log_epochs=20000) # Slow to converge\n",
        "train_backward(n_epochs=200, learning_rate=torch.tensor([1e-4, 1e-1]), log_epochs=20) # Good"
      ],
      "execution_count": null,
      "outputs": [
        {
          "output_type": "stream",
          "name": "stdout",
          "text": [
            "Epoch 20, w 0.444, b -12.132, grad (-12.562, 0.697), loss 5.348\n",
            "Epoch 40, w 0.465, b -13.347, grad (-9.612, 0.533), loss 4.345\n",
            "Epoch 60, w 0.482, b -14.276, grad (-7.354, 0.408), loss 3.757\n",
            "Epoch 80, w 0.495, b -14.988, grad (-5.627, 0.312), loss 3.413\n",
            "Epoch 100, w 0.505, b -15.532, grad (-4.305, 0.239), loss 3.212\n",
            "Epoch 120, w 0.512, b -15.948, grad (-3.294, 0.183), loss 3.094\n",
            "Epoch 140, w 0.518, b -16.267, grad (-2.521, 0.140), loss 3.025\n",
            "Epoch 160, w 0.522, b -16.511, grad (-1.929, 0.107), loss 2.985\n",
            "Epoch 180, w 0.526, b -16.697, grad (-1.476, 0.082), loss 2.961\n",
            "Epoch 200, w 0.528, b -16.840, grad (-1.129, 0.063), loss 2.947\n"
          ]
        },
        {
          "output_type": "execute_result",
          "data": {
            "text/plain": [
              "tensor([  0.5284, -16.8398], requires_grad=True)"
            ]
          },
          "metadata": {},
          "execution_count": 17
        }
      ]
    },
    {
      "cell_type": "markdown",
      "metadata": {
        "id": "8CeWHs4ed3eL"
      },
      "source": [
        "![](https://drive.google.com/uc?export=view&id=1CDAVipUc4jjKNUF1MA_7cN6Db8F-mTAP)"
      ]
    },
    {
      "cell_type": "markdown",
      "metadata": {
        "id": "gt0E70azu866"
      },
      "source": [
        "**Using optimizers**"
      ]
    },
    {
      "cell_type": "code",
      "metadata": {
        "colab": {
          "base_uri": "https://localhost:8080/"
        },
        "id": "RbUNTW5gvBMR",
        "outputId": "59d05eae-3406-42ce-82cb-7dc44daf17d3"
      },
      "source": [
        "import torch.optim as optim\n",
        "dir(optim)"
      ],
      "execution_count": null,
      "outputs": [
        {
          "output_type": "execute_result",
          "data": {
            "text/plain": [
              "['ASGD',\n",
              " 'Adadelta',\n",
              " 'Adagrad',\n",
              " 'Adam',\n",
              " 'AdamW',\n",
              " 'Adamax',\n",
              " 'LBFGS',\n",
              " 'NAdam',\n",
              " 'Optimizer',\n",
              " 'RAdam',\n",
              " 'RMSprop',\n",
              " 'Rprop',\n",
              " 'SGD',\n",
              " 'SparseAdam',\n",
              " '__builtins__',\n",
              " '__cached__',\n",
              " '__doc__',\n",
              " '__file__',\n",
              " '__loader__',\n",
              " '__name__',\n",
              " '__package__',\n",
              " '__path__',\n",
              " '__spec__',\n",
              " '_functional',\n",
              " '_multi_tensor',\n",
              " 'lr_scheduler',\n",
              " 'swa_utils']"
            ]
          },
          "metadata": {},
          "execution_count": 18
        }
      ]
    },
    {
      "cell_type": "markdown",
      "metadata": {
        "id": "bWs4tzt5vqQQ"
      },
      "source": [
        "**Using the optimizer for one step**"
      ]
    },
    {
      "cell_type": "code",
      "metadata": {
        "colab": {
          "base_uri": "https://localhost:8080/"
        },
        "id": "5Y3V4woGvUPT",
        "outputId": "72ef2217-ce22-4f76-8db4-25e6d3877d2b"
      },
      "source": [
        "params = torch.tensor([1.0, 0.0], requires_grad=True)\n",
        "\n",
        "learning_rate = 1e-2\n",
        "optimizer = optim.SGD([params], lr=learning_rate) # Stochastic gradient descent optimizer\n",
        "t_p = model(t_u, *params)\n",
        "loss = loss_fn(t_p, t_c)\n",
        "optimizer.zero_grad() # Optimizer needs to zero out its gradient before backward pass!\n",
        "loss.backward()\n",
        "optimizer.step()\n",
        "\n",
        "params"
      ],
      "execution_count": null,
      "outputs": [
        {
          "output_type": "execute_result",
          "data": {
            "text/plain": [
              "tensor([-44.1730,  -0.8260], requires_grad=True)"
            ]
          },
          "metadata": {},
          "execution_count": 19
        }
      ]
    },
    {
      "cell_type": "markdown",
      "metadata": {
        "id": "Sy24ilE-wIez"
      },
      "source": [
        "**Training using backward pass and SGD or Adam optimizer**"
      ]
    },
    {
      "cell_type": "code",
      "metadata": {
        "colab": {
          "base_uri": "https://localhost:8080/"
        },
        "id": "SrOfag7VwHP3",
        "outputId": "9944b643-791f-4742-9a35-df0564532638"
      },
      "source": [
        "def train_backward_optim(n_epochs, optimizer, params, log_epochs=0):\n",
        "  for epoch in range(n_epochs):\n",
        "    if params.grad is not None:\n",
        "      params.grad.zero_() # Reset the gradient\n",
        "    t_p = model(t_u, *params)\n",
        "    loss = loss_fn(t_p, t_c) # Compute function (Forward pass)\n",
        "    optimizer.zero_grad()\n",
        "    loss.backward() # Compute gradient (Backward pass)\n",
        "    optimizer.step()\n",
        "\n",
        "    w, b = params\n",
        "    grad = params.grad\n",
        "    if log_epochs is not 0 and ((epoch+1) % log_epochs == 0 or (epoch+1) == n_epochs):\n",
        "      print(f\"Epoch {epoch+1}, w {w:.3f}, b {b:.3f}, grad ({grad[0]:.3f}, {grad[1]:.3f}), loss {float(loss):.3f}\")\n",
        "\n",
        "  return params\n",
        "\n",
        "params=torch.tensor([1.0, 0.0], requires_grad=True)\n",
        "\n",
        "#train_backward_optim(n_epochs=10, optimizer=optim.SGD([params],lr=1e-3), params=params, log_epochs=1) # Diverges\n",
        "#train_backward_optim(n_epochs=200000, optimizer=optim.SGD([params],lr=1e-4), params=params, log_epochs=20000) # Slow to converge\n",
        "train_backward_optim(n_epochs=2000, optimizer=optim.Adam([params],lr=1e-1), params=params, log_epochs=200) # Good"
      ],
      "execution_count": null,
      "outputs": [
        {
          "output_type": "stream",
          "name": "stdout",
          "text": [
            "Epoch 200, w 0.298, b -3.744, grad (-2.115, 2.342), loss 19.082\n",
            "Epoch 400, w 0.373, b -8.022, grad (-1.508, 1.603), loss 10.508\n",
            "Epoch 600, w 0.439, b -11.754, grad (-0.895, 0.959), loss 5.641\n",
            "Epoch 800, w 0.485, b -14.389, grad (-0.469, 0.504), loss 3.678\n",
            "Epoch 1000, w 0.513, b -15.963, grad (-0.216, 0.232), loss 3.087\n",
            "Epoch 1200, w 0.527, b -16.767, grad (-0.086, 0.093), loss 2.953\n",
            "Epoch 1400, w 0.534, b -17.119, grad (-0.029, 0.032), loss 2.931\n",
            "Epoch 1600, w 0.536, b -17.250, grad (-0.009, 0.009), loss 2.928\n",
            "Epoch 1800, w 0.537, b -17.291, grad (-0.001, 0.002), loss 2.928\n",
            "Epoch 2000, w 0.537, b -17.302, grad (-0.001, 0.000), loss 2.928\n"
          ]
        },
        {
          "output_type": "execute_result",
          "data": {
            "text/plain": [
              "tensor([  0.5367, -17.3021], requires_grad=True)"
            ]
          },
          "metadata": {},
          "execution_count": 20
        }
      ]
    },
    {
      "cell_type": "markdown",
      "metadata": {
        "id": "-86fCa1Cov7n"
      },
      "source": [
        "Every optimizer constructor takes a list of parameters (aka PyTorch tensors, typically with `requires_grad` set to `True`) as the first input. All parameters passed to the optimizer are retained inside the optimizer object so the optimizer can update their values and access their grad attribute\n",
        "\n",
        "![](https://drive.google.com/uc?export=view&id=1uKGa7WzCsoAxF9JN3El9qKmk2k9E77XN)\n",
        "\n",
        "Each  optimizer  exposes  two  methods:  `zero_grad`  and  step.  `zero_grad`  zeroes  the grad attribute of all the parameters passed to the optimizer upon construction. step updates  the  value  of  those  parameters  according  to  the  optimization  strategy  implemented by the specific optimizer.\n",
        "\n",
        "Blog post: [optim.Adam vs optim.SGD,  let’s dive in](https://medium.com/@Biboswan98/optim-adam-vs-optim-sgd-lets-dive-in-8dbf1890fbdc)\n",
        "\n"
      ]
    }
  ]
}