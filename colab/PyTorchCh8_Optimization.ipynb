{
  "nbformat": 4,
  "nbformat_minor": 0,
  "metadata": {
    "colab": {
      "name": "PyTorchCh8_Optimization.ipynb",
      "provenance": [],
      "authorship_tag": "ABX9TyMBiVpZ9HK57cTZTopmMtox",
      "include_colab_link": true
    },
    "kernelspec": {
      "name": "python3",
      "display_name": "Python 3"
    },
    "language_info": {
      "name": "python"
    },
    "accelerator": "GPU",
    "widgets": {
      "application/vnd.jupyter.widget-state+json": {
        "a4b44424075d4f808ad1ae9bdd8c88e2": {
          "model_module": "@jupyter-widgets/controls",
          "model_name": "HBoxModel",
          "model_module_version": "1.5.0",
          "state": {
            "_view_name": "HBoxView",
            "_dom_classes": [],
            "_model_name": "HBoxModel",
            "_view_module": "@jupyter-widgets/controls",
            "_model_module_version": "1.5.0",
            "_view_count": null,
            "_view_module_version": "1.5.0",
            "box_style": "",
            "layout": "IPY_MODEL_f31ebce7979842dd840c81a3e2bae097",
            "_model_module": "@jupyter-widgets/controls",
            "children": [
              "IPY_MODEL_aeac7933869941548b0d373d3a1cdd64",
              "IPY_MODEL_392a6ba663c4455585ba92603aa463cf",
              "IPY_MODEL_b65adac9aee248589c9ecd677fb63a84"
            ]
          }
        },
        "f31ebce7979842dd840c81a3e2bae097": {
          "model_module": "@jupyter-widgets/base",
          "model_name": "LayoutModel",
          "model_module_version": "1.2.0",
          "state": {
            "_view_name": "LayoutView",
            "grid_template_rows": null,
            "right": null,
            "justify_content": null,
            "_view_module": "@jupyter-widgets/base",
            "overflow": null,
            "_model_module_version": "1.2.0",
            "_view_count": null,
            "flex_flow": null,
            "width": null,
            "min_width": null,
            "border": null,
            "align_items": null,
            "bottom": null,
            "_model_module": "@jupyter-widgets/base",
            "top": null,
            "grid_column": null,
            "overflow_y": null,
            "overflow_x": null,
            "grid_auto_flow": null,
            "grid_area": null,
            "grid_template_columns": null,
            "flex": null,
            "_model_name": "LayoutModel",
            "justify_items": null,
            "grid_row": null,
            "max_height": null,
            "align_content": null,
            "visibility": null,
            "align_self": null,
            "height": null,
            "min_height": null,
            "padding": null,
            "grid_auto_rows": null,
            "grid_gap": null,
            "max_width": null,
            "order": null,
            "_view_module_version": "1.2.0",
            "grid_template_areas": null,
            "object_position": null,
            "object_fit": null,
            "grid_auto_columns": null,
            "margin": null,
            "display": null,
            "left": null
          }
        },
        "aeac7933869941548b0d373d3a1cdd64": {
          "model_module": "@jupyter-widgets/controls",
          "model_name": "HTMLModel",
          "model_module_version": "1.5.0",
          "state": {
            "_view_name": "HTMLView",
            "style": "IPY_MODEL_c4c92632eee64172842794ecaae768af",
            "_dom_classes": [],
            "description": "",
            "_model_name": "HTMLModel",
            "placeholder": "​",
            "_view_module": "@jupyter-widgets/controls",
            "_model_module_version": "1.5.0",
            "value": "",
            "_view_count": null,
            "_view_module_version": "1.5.0",
            "description_tooltip": null,
            "_model_module": "@jupyter-widgets/controls",
            "layout": "IPY_MODEL_6743d5af8f7c48df86e712a28769adc8"
          }
        },
        "392a6ba663c4455585ba92603aa463cf": {
          "model_module": "@jupyter-widgets/controls",
          "model_name": "FloatProgressModel",
          "model_module_version": "1.5.0",
          "state": {
            "_view_name": "ProgressView",
            "style": "IPY_MODEL_7d090c69017a4bd38fb6bbedbff9a583",
            "_dom_classes": [],
            "description": "",
            "_model_name": "FloatProgressModel",
            "bar_style": "success",
            "max": 170498071,
            "_view_module": "@jupyter-widgets/controls",
            "_model_module_version": "1.5.0",
            "value": 170498071,
            "_view_count": null,
            "_view_module_version": "1.5.0",
            "orientation": "horizontal",
            "min": 0,
            "description_tooltip": null,
            "_model_module": "@jupyter-widgets/controls",
            "layout": "IPY_MODEL_3f4a404ebc1c454c8f0b231367fd41be"
          }
        },
        "b65adac9aee248589c9ecd677fb63a84": {
          "model_module": "@jupyter-widgets/controls",
          "model_name": "HTMLModel",
          "model_module_version": "1.5.0",
          "state": {
            "_view_name": "HTMLView",
            "style": "IPY_MODEL_1fc023e063b444adb6d0797f1b5e60cd",
            "_dom_classes": [],
            "description": "",
            "_model_name": "HTMLModel",
            "placeholder": "​",
            "_view_module": "@jupyter-widgets/controls",
            "_model_module_version": "1.5.0",
            "value": " 170499072/? [00:03&lt;00:00, 47850057.89it/s]",
            "_view_count": null,
            "_view_module_version": "1.5.0",
            "description_tooltip": null,
            "_model_module": "@jupyter-widgets/controls",
            "layout": "IPY_MODEL_457891d44ca54797ac7d7aa2e931e709"
          }
        },
        "c4c92632eee64172842794ecaae768af": {
          "model_module": "@jupyter-widgets/controls",
          "model_name": "DescriptionStyleModel",
          "model_module_version": "1.5.0",
          "state": {
            "_view_name": "StyleView",
            "_model_name": "DescriptionStyleModel",
            "description_width": "",
            "_view_module": "@jupyter-widgets/base",
            "_model_module_version": "1.5.0",
            "_view_count": null,
            "_view_module_version": "1.2.0",
            "_model_module": "@jupyter-widgets/controls"
          }
        },
        "6743d5af8f7c48df86e712a28769adc8": {
          "model_module": "@jupyter-widgets/base",
          "model_name": "LayoutModel",
          "model_module_version": "1.2.0",
          "state": {
            "_view_name": "LayoutView",
            "grid_template_rows": null,
            "right": null,
            "justify_content": null,
            "_view_module": "@jupyter-widgets/base",
            "overflow": null,
            "_model_module_version": "1.2.0",
            "_view_count": null,
            "flex_flow": null,
            "width": null,
            "min_width": null,
            "border": null,
            "align_items": null,
            "bottom": null,
            "_model_module": "@jupyter-widgets/base",
            "top": null,
            "grid_column": null,
            "overflow_y": null,
            "overflow_x": null,
            "grid_auto_flow": null,
            "grid_area": null,
            "grid_template_columns": null,
            "flex": null,
            "_model_name": "LayoutModel",
            "justify_items": null,
            "grid_row": null,
            "max_height": null,
            "align_content": null,
            "visibility": null,
            "align_self": null,
            "height": null,
            "min_height": null,
            "padding": null,
            "grid_auto_rows": null,
            "grid_gap": null,
            "max_width": null,
            "order": null,
            "_view_module_version": "1.2.0",
            "grid_template_areas": null,
            "object_position": null,
            "object_fit": null,
            "grid_auto_columns": null,
            "margin": null,
            "display": null,
            "left": null
          }
        },
        "7d090c69017a4bd38fb6bbedbff9a583": {
          "model_module": "@jupyter-widgets/controls",
          "model_name": "ProgressStyleModel",
          "model_module_version": "1.5.0",
          "state": {
            "_view_name": "StyleView",
            "_model_name": "ProgressStyleModel",
            "description_width": "",
            "_view_module": "@jupyter-widgets/base",
            "_model_module_version": "1.5.0",
            "_view_count": null,
            "_view_module_version": "1.2.0",
            "bar_color": null,
            "_model_module": "@jupyter-widgets/controls"
          }
        },
        "3f4a404ebc1c454c8f0b231367fd41be": {
          "model_module": "@jupyter-widgets/base",
          "model_name": "LayoutModel",
          "model_module_version": "1.2.0",
          "state": {
            "_view_name": "LayoutView",
            "grid_template_rows": null,
            "right": null,
            "justify_content": null,
            "_view_module": "@jupyter-widgets/base",
            "overflow": null,
            "_model_module_version": "1.2.0",
            "_view_count": null,
            "flex_flow": null,
            "width": null,
            "min_width": null,
            "border": null,
            "align_items": null,
            "bottom": null,
            "_model_module": "@jupyter-widgets/base",
            "top": null,
            "grid_column": null,
            "overflow_y": null,
            "overflow_x": null,
            "grid_auto_flow": null,
            "grid_area": null,
            "grid_template_columns": null,
            "flex": null,
            "_model_name": "LayoutModel",
            "justify_items": null,
            "grid_row": null,
            "max_height": null,
            "align_content": null,
            "visibility": null,
            "align_self": null,
            "height": null,
            "min_height": null,
            "padding": null,
            "grid_auto_rows": null,
            "grid_gap": null,
            "max_width": null,
            "order": null,
            "_view_module_version": "1.2.0",
            "grid_template_areas": null,
            "object_position": null,
            "object_fit": null,
            "grid_auto_columns": null,
            "margin": null,
            "display": null,
            "left": null
          }
        },
        "1fc023e063b444adb6d0797f1b5e60cd": {
          "model_module": "@jupyter-widgets/controls",
          "model_name": "DescriptionStyleModel",
          "model_module_version": "1.5.0",
          "state": {
            "_view_name": "StyleView",
            "_model_name": "DescriptionStyleModel",
            "description_width": "",
            "_view_module": "@jupyter-widgets/base",
            "_model_module_version": "1.5.0",
            "_view_count": null,
            "_view_module_version": "1.2.0",
            "_model_module": "@jupyter-widgets/controls"
          }
        },
        "457891d44ca54797ac7d7aa2e931e709": {
          "model_module": "@jupyter-widgets/base",
          "model_name": "LayoutModel",
          "model_module_version": "1.2.0",
          "state": {
            "_view_name": "LayoutView",
            "grid_template_rows": null,
            "right": null,
            "justify_content": null,
            "_view_module": "@jupyter-widgets/base",
            "overflow": null,
            "_model_module_version": "1.2.0",
            "_view_count": null,
            "flex_flow": null,
            "width": null,
            "min_width": null,
            "border": null,
            "align_items": null,
            "bottom": null,
            "_model_module": "@jupyter-widgets/base",
            "top": null,
            "grid_column": null,
            "overflow_y": null,
            "overflow_x": null,
            "grid_auto_flow": null,
            "grid_area": null,
            "grid_template_columns": null,
            "flex": null,
            "_model_name": "LayoutModel",
            "justify_items": null,
            "grid_row": null,
            "max_height": null,
            "align_content": null,
            "visibility": null,
            "align_self": null,
            "height": null,
            "min_height": null,
            "padding": null,
            "grid_auto_rows": null,
            "grid_gap": null,
            "max_width": null,
            "order": null,
            "_view_module_version": "1.2.0",
            "grid_template_areas": null,
            "object_position": null,
            "object_fit": null,
            "grid_auto_columns": null,
            "margin": null,
            "display": null,
            "left": null
          }
        }
      }
    }
  },
  "cells": [
    {
      "cell_type": "markdown",
      "metadata": {
        "id": "view-in-github",
        "colab_type": "text"
      },
      "source": [
        "<a href=\"https://colab.research.google.com/github/Bitdribble/dlwpt-code/blob/master/colab/PyTorchCh8_Optimization.ipynb\" target=\"_parent\"><img src=\"https://colab.research.google.com/assets/colab-badge.svg\" alt=\"Open In Colab\"/></a>"
      ]
    },
    {
      "cell_type": "code",
      "execution_count": 14,
      "metadata": {
        "colab": {
          "base_uri": "https://localhost:8080/"
        },
        "id": "K5U2Zx9Sfrv7",
        "outputId": "447c63f8-1456-4ed1-bde4-a6face358259"
      },
      "outputs": [
        {
          "output_type": "execute_result",
          "data": {
            "text/plain": [
              "<torch._C.Generator at 0x7fe6913f9b50>"
            ]
          },
          "metadata": {},
          "execution_count": 14
        }
      ],
      "source": [
        "import datetime\n",
        "import torch\n",
        "import torch.nn as nn\n",
        "import torch.optim as optim\n",
        "from torchvision import datasets, transforms\n",
        "import matplotlib.pyplot as plt\n",
        "\n",
        "torch.set_printoptions(edgeitems=2, linewidth=75)\n",
        "torch.manual_seed(123)"
      ]
    },
    {
      "cell_type": "code",
      "source": [
        "# Data preparation\n",
        "data_path = '.'\n",
        "cifar10 = datasets.CIFAR10(data_path, train=True, download=True)\n",
        "cifar10_val = datasets.CIFAR10(data_path, train=False, download=True)"
      ],
      "metadata": {
        "colab": {
          "base_uri": "https://localhost:8080/",
          "height": 104,
          "referenced_widgets": [
            "a4b44424075d4f808ad1ae9bdd8c88e2",
            "f31ebce7979842dd840c81a3e2bae097",
            "aeac7933869941548b0d373d3a1cdd64",
            "392a6ba663c4455585ba92603aa463cf",
            "b65adac9aee248589c9ecd677fb63a84",
            "c4c92632eee64172842794ecaae768af",
            "6743d5af8f7c48df86e712a28769adc8",
            "7d090c69017a4bd38fb6bbedbff9a583",
            "3f4a404ebc1c454c8f0b231367fd41be",
            "1fc023e063b444adb6d0797f1b5e60cd",
            "457891d44ca54797ac7d7aa2e931e709"
          ]
        },
        "id": "C4p9Hhlrf-ev",
        "outputId": "4313298a-c75c-4ab1-bcb5-342369ef7434"
      },
      "execution_count": 2,
      "outputs": [
        {
          "output_type": "stream",
          "name": "stdout",
          "text": [
            "Downloading https://www.cs.toronto.edu/~kriz/cifar-10-python.tar.gz to ./cifar-10-python.tar.gz\n"
          ]
        },
        {
          "output_type": "display_data",
          "data": {
            "application/vnd.jupyter.widget-view+json": {
              "model_id": "a4b44424075d4f808ad1ae9bdd8c88e2",
              "version_minor": 0,
              "version_major": 2
            },
            "text/plain": [
              "  0%|          | 0/170498071 [00:00<?, ?it/s]"
            ]
          },
          "metadata": {}
        },
        {
          "output_type": "stream",
          "name": "stdout",
          "text": [
            "Extracting ./cifar-10-python.tar.gz to .\n",
            "Files already downloaded and verified\n"
          ]
        }
      ]
    },
    {
      "cell_type": "code",
      "source": [
        "# Normalize data\n",
        "transformed_cifar10 = datasets.CIFAR10(\n",
        "    data_path, train=True, download=False,\n",
        "    transform=transforms.Compose([\n",
        "        transforms.ToTensor(),\n",
        "        transforms.Normalize((0.4915, 0.4823, 0.4468),\n",
        "                             (0.2470, 0.2435, 0.2616))\n",
        "    ]))\n",
        "transformed_cifar10_val = datasets.CIFAR10(\n",
        "    data_path, train=False, download=False,\n",
        "    transform=transforms.Compose([\n",
        "        transforms.ToTensor(),\n",
        "        transforms.Normalize((0.4915, 0.4823, 0.4468),\n",
        "                             (0.2470, 0.2435, 0.2616))\n",
        "    ]))"
      ],
      "metadata": {
        "id": "AJgbOXEggBKW"
      },
      "execution_count": 3,
      "outputs": []
    },
    {
      "cell_type": "code",
      "source": [
        "# Restrict data to airplanes and birds\n",
        "label_map = {0: 0, 2: 1}\n",
        "class_names = ['airplane', 'bird']\n",
        "\n",
        "cifar2 = [(img, label_map[label]) for img, label in transformed_cifar10 if label in [0, 2]]\n",
        "cifar2_val = [(img, label_map[label]) for img, label in transformed_cifar10_val if label in [0, 2]]"
      ],
      "metadata": {
        "id": "KhjBhlpJgDnJ"
      },
      "execution_count": 4,
      "outputs": []
    },
    {
      "cell_type": "code",
      "source": [
        "device = (torch.device('cuda') if torch.cuda.is_available() else torch.device('cpu'))\n",
        "print(f\"Training on device {device}.\")"
      ],
      "metadata": {
        "colab": {
          "base_uri": "https://localhost:8080/"
        },
        "id": "o23dDtFtgF14",
        "outputId": "141c8980-89f9-4e68-c0b9-96eb1d3216ff"
      },
      "execution_count": 5,
      "outputs": [
        {
          "output_type": "stream",
          "name": "stdout",
          "text": [
            "Training on device cuda.\n"
          ]
        }
      ]
    },
    {
      "cell_type": "code",
      "source": [
        "def training_loop(n_epochs, device, optimizer, model, loss_fn, train_loader, val_loader, log_epochs=0):\n",
        "  hist = {\n",
        "      \"loss_train\" : [],\n",
        "      \"acc_train\" : [],\n",
        "      \"acc_val\" : [],\n",
        "      \"n_epochs\" : n_epochs,\n",
        "  }\n",
        "\n",
        "  for epoch in range(1, n_epochs + 1):\n",
        "    model.train() # Set train mode\n",
        "    loss_train = 0.0\n",
        "\n",
        "    for imgs, labels in train_loader:\n",
        "      imgs = imgs.to(device=device)\n",
        "      labels = labels.to(device=device)\n",
        "\n",
        "      outputs = model(imgs)\n",
        "      loss = loss_fn(outputs, labels)\n",
        "      optimizer.zero_grad()\n",
        "      loss.backward()\n",
        "      optimizer.step()\n",
        "      loss_train += loss.item()\n",
        "\n",
        "    loss_train /= len(train_loader)\n",
        "    acc_train, acc_val = validate(model, device, train_loader, val_loader)\n",
        "\n",
        "    hist[\"loss_train\"].append(loss_train)\n",
        "    hist[\"acc_train\"].append(acc_train)\n",
        "    hist[\"acc_val\"].append(acc_val)\n",
        "\n",
        "    if log_epochs is not 0 and (epoch % log_epochs == 0 or epoch == n_epochs):\n",
        "      print(f\"{datetime.datetime.now()} Epoch {epoch}, \"\n",
        "            f\"Loss train {loss_train:.3f} Acc train {acc_train:.3f} val {acc_val:.3f}\")\n",
        "      \n",
        "  return hist\n",
        "\n",
        "def validate(model, device, train_loader, val_loader):\n",
        "  acc = {}\n",
        "  model.eval() # Set eval mode\n",
        "\n",
        "  for name, loader in [(\"train\", train_loader), (\"val\", val_loader)]:\n",
        "    correct = 0\n",
        "    total = 0\n",
        "    with torch.no_grad(): \n",
        "      for imgs, labels in loader:\n",
        "        imgs = imgs.to(device=device)\n",
        "        labels = labels.to(device=device)\n",
        "\n",
        "        outputs = model(imgs)\n",
        "        _, predicted = torch.max(outputs, dim=1) \n",
        "\n",
        "        total += labels.shape[0]\n",
        "        correct += int((predicted == labels).sum())\n",
        "\n",
        "    acc[name] = correct / total\n",
        "  \n",
        "  return acc[\"train\"], acc[\"val\"]"
      ],
      "metadata": {
        "id": "5f-lEUxogH60"
      },
      "execution_count": 31,
      "outputs": []
    },
    {
      "cell_type": "code",
      "source": [
        "# Baseline network\n",
        "class Net(nn.Module):\n",
        "  def __init__(self, n_chans1=32):\n",
        "    super().__init__()\n",
        "\n",
        "    self.n_chans1 = n_chans1\n",
        "    self.conv1 = nn.Conv2d(3, n_chans1, kernel_size=3, padding=1)\n",
        "    self.act1 = nn.Tanh()\n",
        "    self.pool1 = nn.MaxPool2d(2)\n",
        "\n",
        "    self.conv2 = nn.Conv2d(n_chans1, n_chans1//2, kernel_size=3, padding=1)\n",
        "    self.act2 = nn.Tanh()\n",
        "    self.pool2 = nn.MaxPool2d(2)\n",
        "\n",
        "    self.fc1 = nn.Linear(8*8*(n_chans1//2), 32)\n",
        "    self.act3 = nn.Tanh()\n",
        "\n",
        "    self.fc2 = nn.Linear(32, 2)\n",
        "\n",
        "  def forward(self, x):\n",
        "    out = self.pool1(self.act1(self.conv1(x)))\n",
        "    out = self.pool2(self.act2(self.conv2(out)))\n",
        "    out = out.view(-1, 8*8*(self.n_chans1//2)) # In place of nn.Flatten()\n",
        "    out = self.act3(self.fc1(out))\n",
        "    out = self.fc2(out)\n",
        "    return out"
      ],
      "metadata": {
        "id": "zMc9_4hVuzNX"
      },
      "execution_count": 41,
      "outputs": []
    },
    {
      "cell_type": "code",
      "source": [
        "# This implements Batch Normalization \n",
        "class NetBatchNorm(nn.Module):\n",
        "  def __init__(self, n_chans1=32):\n",
        "    super().__init__()\n",
        "\n",
        "    self.n_chans1 = n_chans1\n",
        "    self.conv1 = nn.Conv2d(3, n_chans1, kernel_size=3, padding=1)\n",
        "    self.conv1_batchnorm = nn.BatchNorm2d(num_features=n_chans1) # Batch normalization\n",
        "    self.act1 = nn.Tanh()\n",
        "    self.pool1 = nn.MaxPool2d(2)\n",
        "\n",
        "    self.conv2 = nn.Conv2d(n_chans1, n_chans1//2, kernel_size=3, padding=1)\n",
        "    self.conv2_batchnorm = nn.BatchNorm2d(num_features=n_chans1//2) # Batch normalization\n",
        "    self.act2 = nn.Tanh()\n",
        "    self.pool2 = nn.MaxPool2d(2)\n",
        "\n",
        "    self.fc1 = nn.Linear(8*8*(n_chans1//2), 32)\n",
        "    self.act3 = nn.Tanh()\n",
        "\n",
        "    self.fc2 = nn.Linear(32, 2)\n",
        "\n",
        "  def forward(self, x):\n",
        "    out = self.pool1(self.act1(self.conv1_batchnorm(self.conv1(x))))\n",
        "    out = self.pool2(self.act2(self.conv2_batchnorm(self.conv2(out))))\n",
        "    out = out.view(-1, 8*8*(self.n_chans1//2)) # In place of nn.Flatten()\n",
        "    out = self.act3(self.fc1(out))\n",
        "    out = self.fc2(out)\n",
        "    return out"
      ],
      "metadata": {
        "id": "RCKKdUxngK0S"
      },
      "execution_count": 38,
      "outputs": []
    },
    {
      "cell_type": "code",
      "source": [
        "model = NetLayerNorm(n_chans1=32).to(device=device)\n",
        "optimizer = optim.SGD(model.parameters(), lr=1e-2)\n",
        "train_loader = torch.utils.data.DataLoader(cifar2, batch_size=64,\n",
        "                                           shuffle=True)\n",
        "val_loader = torch.utils.data.DataLoader(cifar2_val, batch_size=64, \n",
        "                                         shuffle=False)\n",
        "\n",
        "loss_fn = nn.CrossEntropyLoss()\n",
        "\n",
        "model.train() # Set train mode\n",
        "\n",
        "hist = training_loop(\n",
        "    n_epochs = 40,\n",
        "    device=device,\n",
        "    optimizer = optimizer,\n",
        "    model = model,\n",
        "\n",
        "    loss_fn = loss_fn,\n",
        "    train_loader = train_loader,\n",
        "    val_loader = val_loader,\n",
        "    log_epochs = 1\n",
        ")"
      ],
      "metadata": {
        "colab": {
          "base_uri": "https://localhost:8080/"
        },
        "id": "uZnir9dwggUR",
        "outputId": "7749c5af-f5ea-43ad-ce5f-46e73d0aeb89"
      },
      "execution_count": 39,
      "outputs": [
        {
          "output_type": "stream",
          "name": "stdout",
          "text": [
            "2022-01-31 01:17:09.198612 Epoch 1, Loss train 0.562 Acc train 0.781 val 0.787\n",
            "2022-01-31 01:17:09.863961 Epoch 2, Loss train 0.462 Acc train 0.805 val 0.809\n",
            "2022-01-31 01:17:10.519195 Epoch 3, Loss train 0.416 Acc train 0.827 val 0.821\n",
            "2022-01-31 01:17:11.202181 Epoch 4, Loss train 0.382 Acc train 0.840 val 0.828\n",
            "2022-01-31 01:17:11.879629 Epoch 5, Loss train 0.363 Acc train 0.847 val 0.842\n",
            "2022-01-31 01:17:12.558763 Epoch 6, Loss train 0.349 Acc train 0.849 val 0.846\n",
            "2022-01-31 01:17:13.237206 Epoch 7, Loss train 0.340 Acc train 0.854 val 0.845\n",
            "2022-01-31 01:17:13.882377 Epoch 8, Loss train 0.333 Acc train 0.851 val 0.843\n",
            "2022-01-31 01:17:14.538157 Epoch 9, Loss train 0.328 Acc train 0.857 val 0.852\n",
            "2022-01-31 01:17:15.200226 Epoch 10, Loss train 0.320 Acc train 0.866 val 0.858\n",
            "2022-01-31 01:17:15.873525 Epoch 11, Loss train 0.315 Acc train 0.865 val 0.849\n",
            "2022-01-31 01:17:16.540015 Epoch 12, Loss train 0.310 Acc train 0.869 val 0.854\n",
            "2022-01-31 01:17:17.192593 Epoch 13, Loss train 0.305 Acc train 0.874 val 0.859\n",
            "2022-01-31 01:17:17.853292 Epoch 14, Loss train 0.303 Acc train 0.851 val 0.843\n",
            "2022-01-31 01:17:18.508287 Epoch 15, Loss train 0.296 Acc train 0.874 val 0.865\n",
            "2022-01-31 01:17:19.163368 Epoch 16, Loss train 0.292 Acc train 0.877 val 0.863\n",
            "2022-01-31 01:17:19.812555 Epoch 17, Loss train 0.289 Acc train 0.881 val 0.861\n",
            "2022-01-31 01:17:20.460084 Epoch 18, Loss train 0.283 Acc train 0.884 val 0.863\n",
            "2022-01-31 01:17:21.124510 Epoch 19, Loss train 0.280 Acc train 0.889 val 0.869\n",
            "2022-01-31 01:17:21.788286 Epoch 20, Loss train 0.276 Acc train 0.881 val 0.870\n",
            "2022-01-31 01:17:22.464441 Epoch 21, Loss train 0.272 Acc train 0.889 val 0.874\n",
            "2022-01-31 01:17:23.120367 Epoch 22, Loss train 0.267 Acc train 0.891 val 0.872\n",
            "2022-01-31 01:17:23.773745 Epoch 23, Loss train 0.263 Acc train 0.885 val 0.874\n",
            "2022-01-31 01:17:24.454916 Epoch 24, Loss train 0.259 Acc train 0.891 val 0.875\n",
            "2022-01-31 01:17:25.123111 Epoch 25, Loss train 0.254 Acc train 0.896 val 0.877\n",
            "2022-01-31 01:17:25.772121 Epoch 26, Loss train 0.250 Acc train 0.895 val 0.881\n",
            "2022-01-31 01:17:26.416477 Epoch 27, Loss train 0.250 Acc train 0.861 val 0.843\n",
            "2022-01-31 01:17:27.082890 Epoch 28, Loss train 0.245 Acc train 0.894 val 0.883\n",
            "2022-01-31 01:17:27.744721 Epoch 29, Loss train 0.242 Acc train 0.887 val 0.869\n",
            "2022-01-31 01:17:28.394920 Epoch 30, Loss train 0.239 Acc train 0.905 val 0.888\n",
            "2022-01-31 01:17:29.036970 Epoch 31, Loss train 0.238 Acc train 0.891 val 0.867\n",
            "2022-01-31 01:17:29.689685 Epoch 32, Loss train 0.231 Acc train 0.902 val 0.878\n",
            "2022-01-31 01:17:30.359719 Epoch 33, Loss train 0.231 Acc train 0.909 val 0.886\n",
            "2022-01-31 01:17:31.008066 Epoch 34, Loss train 0.226 Acc train 0.889 val 0.872\n",
            "2022-01-31 01:17:31.684663 Epoch 35, Loss train 0.227 Acc train 0.905 val 0.882\n",
            "2022-01-31 01:17:32.373007 Epoch 36, Loss train 0.222 Acc train 0.908 val 0.894\n",
            "2022-01-31 01:17:33.031558 Epoch 37, Loss train 0.219 Acc train 0.907 val 0.883\n",
            "2022-01-31 01:17:33.694503 Epoch 38, Loss train 0.217 Acc train 0.898 val 0.888\n",
            "2022-01-31 01:17:34.352894 Epoch 39, Loss train 0.215 Acc train 0.874 val 0.841\n",
            "2022-01-31 01:17:35.006489 Epoch 40, Loss train 0.211 Acc train 0.880 val 0.854\n"
          ]
        }
      ]
    },
    {
      "cell_type": "code",
      "source": [
        "dim = range(1, hist[\"n_epochs\"]+1)\n",
        "\n",
        "plt.subplot(2, 1, 1)\n",
        "plt.title('Training loss')\n",
        "plt.plot(dim, hist[\"loss_train\"])\n",
        "plt.xlabel('Iteration')\n",
        "plt.grid(linestyle='--', linewidth=0.5)\n",
        "\n",
        "plt.subplot(2, 1, 2)\n",
        "plt.title('Accuracy')\n",
        "plt.plot(dim, hist[\"acc_train\"], '-o', label='train')\n",
        "plt.plot(dim, hist[\"acc_val\"], '-o', label='val')\n",
        "plt.xlabel('Epoch')\n",
        "plt.legend(loc='lower right')\n",
        "plt.gcf().set_size_inches(15, 12)\n",
        "plt.grid(linestyle='--', linewidth=0.5)\n",
        "plt.show()"
      ],
      "metadata": {
        "colab": {
          "base_uri": "https://localhost:8080/",
          "height": 730
        },
        "id": "5aUMhn-xoZ1S",
        "outputId": "7ffc5b57-fe5f-4703-c756-612c459c58f3"
      },
      "execution_count": 40,
      "outputs": [
        {
          "output_type": "display_data",
          "data": {
            "image/png": "[encoded data removed]",
            "text/plain": [
              "<Figure size 1080x864 with 2 Axes>"
            ]
          },
          "metadata": {
            "needs_background": "light"
          }
        }
      ]
    }
  ]
}
